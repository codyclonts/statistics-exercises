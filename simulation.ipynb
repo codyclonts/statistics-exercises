{
 "cells": [
  {
   "cell_type": "markdown",
   "id": "acd040b6",
   "metadata": {},
   "source": [
    "### 1) how likely is it that you will get doubles when rolling two dice?"
   ]
  },
  {
   "cell_type": "code",
   "execution_count": 2,
   "id": "0d0ab271",
   "metadata": {},
   "outputs": [],
   "source": [
    "import numpy as np\n",
    "import pandas as pd\n"
   ]
  },
  {
   "cell_type": "code",
   "execution_count": 35,
   "id": "4eac6b5a",
   "metadata": {},
   "outputs": [
    {
     "data": {
      "text/plain": [
       "array([[5, 1],\n",
       "       [2, 4],\n",
       "       [1, 5],\n",
       "       ...,\n",
       "       [3, 1],\n",
       "       [1, 6],\n",
       "       [2, 5]])"
      ]
     },
     "execution_count": 35,
     "metadata": {},
     "output_type": "execute_result"
    }
   ],
   "source": [
    "n_trials = nrows = 10_000\n",
    "n_dice = ncols = 2\n",
    "\n",
    "rolls = np.random.choice([1,2,3,4,5,6],n_trials * n_dice).reshape(nrows,ncols)\n",
    "rolls\n"
   ]
  },
  {
   "cell_type": "code",
   "execution_count": 36,
   "id": "58dc2d1a",
   "metadata": {},
   "outputs": [
    {
     "data": {
      "text/plain": [
       "array([6, 6, 6, ..., 4, 7, 7])"
      ]
     },
     "execution_count": 36,
     "metadata": {},
     "output_type": "execute_result"
    }
   ],
   "source": [
    "trials = rolls.sum(axis=1)\n",
    "trials"
   ]
  },
  {
   "cell_type": "code",
   "execution_count": 37,
   "id": "b8abaa83",
   "metadata": {},
   "outputs": [],
   "source": [
    "doubles = (rolls[:,0] == rolls[:,1])\n"
   ]
  },
  {
   "cell_type": "code",
   "execution_count": 38,
   "id": "10ab1728",
   "metadata": {},
   "outputs": [
    {
     "data": {
      "text/plain": [
       "{16.8}"
      ]
     },
     "execution_count": 38,
     "metadata": {},
     "output_type": "execute_result"
    }
   ],
   "source": [
    "{round(doubles.astype(int).mean() *100 , 1)}"
   ]
  },
  {
   "cell_type": "markdown",
   "id": "5ec9adaa",
   "metadata": {},
   "source": [
    "#### 2) you flip 8 coins. what is the probability of getting exactly 3 heads\n",
    "#### what is the probability of getting more than three heads?"
   ]
  },
  {
   "cell_type": "code",
   "execution_count": 65,
   "id": "de8aa967",
   "metadata": {},
   "outputs": [],
   "source": [
    "n_trials = nrows = 10_000\n",
    "n_dice = ncols = 8\n",
    "n_heads = .5\n",
    "flips = pd.DataFrame(np.random.choice([0,1],n_trials * n_dice).reshape(nrows,ncols))\n"
   ]
  },
  {
   "cell_type": "code",
   "execution_count": 66,
   "id": "5aa80fb2",
   "metadata": {},
   "outputs": [],
   "source": [
    "flips['heads']= flips.sum(axis=1)"
   ]
  },
  {
   "cell_type": "code",
   "execution_count": 67,
   "id": "54805883",
   "metadata": {},
   "outputs": [
    {
     "data": {
      "text/plain": [
       "21.94"
      ]
     },
     "execution_count": 67,
     "metadata": {},
     "output_type": "execute_result"
    }
   ],
   "source": [
    "three_heads = (flips['heads'] == 3).mean()*100\n",
    "three_heads"
   ]
  },
  {
   "cell_type": "code",
   "execution_count": 68,
   "id": "6e415319",
   "metadata": {},
   "outputs": [
    {
     "data": {
      "text/plain": [
       "63.31"
      ]
     },
     "execution_count": 68,
     "metadata": {},
     "output_type": "execute_result"
    }
   ],
   "source": [
    "greater_three = (flips['heads'] > 3).mean()*100\n",
    "greater_three"
   ]
  },
  {
   "cell_type": "markdown",
   "id": "102fd134",
   "metadata": {},
   "source": [
    "# 3) 3 web cohorts and 1 ds cohort. what are the odds that the two billboards I drive past both have data science students on them?"
   ]
  },
  {
   "cell_type": "code",
   "execution_count": 24,
   "id": "60802ae8",
   "metadata": {},
   "outputs": [],
   "source": [
    "n_trials = 10_000\n",
    "n_cohorts = 4\n",
    "rolls = np.random.choice([1,2,3,4,5,6],n_trials * n_dice).reshape(nrows,ncols)"
   ]
  },
  {
   "cell_type": "code",
   "execution_count": null,
   "id": "be66fbc2",
   "metadata": {},
   "outputs": [],
   "source": []
  }
 ],
 "metadata": {
  "kernelspec": {
   "display_name": "Python 3 (ipykernel)",
   "language": "python",
   "name": "python3"
  },
  "language_info": {
   "codemirror_mode": {
    "name": "ipython",
    "version": 3
   },
   "file_extension": ".py",
   "mimetype": "text/x-python",
   "name": "python",
   "nbconvert_exporter": "python",
   "pygments_lexer": "ipython3",
   "version": "3.9.7"
  }
 },
 "nbformat": 4,
 "nbformat_minor": 5
}
