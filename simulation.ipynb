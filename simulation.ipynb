{
 "cells": [
  {
   "cell_type": "markdown",
   "id": "acd040b6",
   "metadata": {},
   "source": [
    "### 1) how likely is it that you will get doubles when rolling two dice?"
   ]
  },
  {
   "cell_type": "code",
   "execution_count": 1,
   "id": "0d0ab271",
   "metadata": {},
   "outputs": [],
   "source": [
    "import numpy as np\n",
    "import pandas as pd\n"
   ]
  },
  {
   "cell_type": "code",
   "execution_count": 2,
   "id": "4eac6b5a",
   "metadata": {},
   "outputs": [
    {
     "data": {
      "text/plain": [
       "array([[5, 5],\n",
       "       [2, 1],\n",
       "       [5, 3],\n",
       "       ...,\n",
       "       [3, 2],\n",
       "       [5, 4],\n",
       "       [2, 3]])"
      ]
     },
     "execution_count": 2,
     "metadata": {},
     "output_type": "execute_result"
    }
   ],
   "source": [
    "n_trials = nrows = 10_000\n",
    "n_dice = ncols = 2\n",
    "\n",
    "rolls = np.random.choice([1,2,3,4,5,6],n_trials * n_dice).reshape(nrows,ncols)\n",
    "rolls\n"
   ]
  },
  {
   "cell_type": "code",
   "execution_count": 3,
   "id": "58dc2d1a",
   "metadata": {},
   "outputs": [
    {
     "data": {
      "text/plain": [
       "array([10,  3,  8, ...,  5,  9,  5])"
      ]
     },
     "execution_count": 3,
     "metadata": {},
     "output_type": "execute_result"
    }
   ],
   "source": [
    "trials = rolls.sum(axis=1)\n",
    "trials"
   ]
  },
  {
   "cell_type": "code",
   "execution_count": 4,
   "id": "b8abaa83",
   "metadata": {},
   "outputs": [],
   "source": [
    "doubles = (rolls[:,0] == rolls[:,1])\n"
   ]
  },
  {
   "cell_type": "code",
   "execution_count": 5,
   "id": "10ab1728",
   "metadata": {},
   "outputs": [
    {
     "data": {
      "text/plain": [
       "{16.7}"
      ]
     },
     "execution_count": 5,
     "metadata": {},
     "output_type": "execute_result"
    }
   ],
   "source": [
    "{round(doubles.astype(int).mean() *100 , 1)}"
   ]
  },
  {
   "cell_type": "markdown",
   "id": "5ec9adaa",
   "metadata": {},
   "source": [
    "#### 2) you flip 8 coins. what is the probability of getting exactly 3 heads\n",
    "#### what is the probability of getting more than three heads?"
   ]
  },
  {
   "cell_type": "code",
   "execution_count": 6,
   "id": "de8aa967",
   "metadata": {},
   "outputs": [],
   "source": [
    "n_trials = nrows = 10_000\n",
    "n_dice = ncols = 8\n",
    "n_heads = .5\n",
    "flips = pd.DataFrame(np.random.choice([0,1],n_trials * n_dice).reshape(nrows,ncols))\n"
   ]
  },
  {
   "cell_type": "code",
   "execution_count": 7,
   "id": "5aa80fb2",
   "metadata": {},
   "outputs": [],
   "source": [
    "flips['heads']= flips.sum(axis=1)"
   ]
  },
  {
   "cell_type": "code",
   "execution_count": 8,
   "id": "54805883",
   "metadata": {},
   "outputs": [
    {
     "data": {
      "text/plain": [
       "22.27"
      ]
     },
     "execution_count": 8,
     "metadata": {},
     "output_type": "execute_result"
    }
   ],
   "source": [
    "three_heads = (flips['heads'] == 3).mean()*100\n",
    "three_heads"
   ]
  },
  {
   "cell_type": "code",
   "execution_count": 9,
   "id": "6e415319",
   "metadata": {},
   "outputs": [
    {
     "data": {
      "text/plain": [
       "63.42"
      ]
     },
     "execution_count": 9,
     "metadata": {},
     "output_type": "execute_result"
    }
   ],
   "source": [
    "greater_three = (flips['heads'] > 3).mean()*100\n",
    "greater_three"
   ]
  },
  {
   "cell_type": "markdown",
   "id": "102fd134",
   "metadata": {},
   "source": [
    "# 3) 3 web cohorts and 1 ds cohort. what are the odds that the two billboards I drive past both have data science students on them?"
   ]
  },
  {
   "cell_type": "code",
   "execution_count": 16,
   "id": "60802ae8",
   "metadata": {},
   "outputs": [
    {
     "data": {
      "text/html": [
       "<div>\n",
       "<style scoped>\n",
       "    .dataframe tbody tr th:only-of-type {\n",
       "        vertical-align: middle;\n",
       "    }\n",
       "\n",
       "    .dataframe tbody tr th {\n",
       "        vertical-align: top;\n",
       "    }\n",
       "\n",
       "    .dataframe thead th {\n",
       "        text-align: right;\n",
       "    }\n",
       "</style>\n",
       "<table border=\"1\" class=\"dataframe\">\n",
       "  <thead>\n",
       "    <tr style=\"text-align: right;\">\n",
       "      <th></th>\n",
       "      <th>Billboard 1</th>\n",
       "      <th>Billboard 2</th>\n",
       "    </tr>\n",
       "  </thead>\n",
       "  <tbody>\n",
       "    <tr>\n",
       "      <th>0</th>\n",
       "      <td>Data</td>\n",
       "      <td>Data</td>\n",
       "    </tr>\n",
       "    <tr>\n",
       "      <th>1</th>\n",
       "      <td>web</td>\n",
       "      <td>web</td>\n",
       "    </tr>\n",
       "    <tr>\n",
       "      <th>2</th>\n",
       "      <td>web</td>\n",
       "      <td>web</td>\n",
       "    </tr>\n",
       "    <tr>\n",
       "      <th>3</th>\n",
       "      <td>web</td>\n",
       "      <td>web</td>\n",
       "    </tr>\n",
       "    <tr>\n",
       "      <th>4</th>\n",
       "      <td>Data</td>\n",
       "      <td>web</td>\n",
       "    </tr>\n",
       "  </tbody>\n",
       "</table>\n",
       "</div>"
      ],
      "text/plain": [
       "  Billboard 1 Billboard 2\n",
       "0        Data        Data\n",
       "1         web         web\n",
       "2         web         web\n",
       "3         web         web\n",
       "4        Data         web"
      ]
     },
     "execution_count": 16,
     "metadata": {},
     "output_type": "execute_result"
    }
   ],
   "source": [
    "n_rows = 10_000\n",
    "n_cols = 2\n",
    "billboards = np.random.choice(['web', 'Data'], p=[.75,.25],size= n_rows* n_cols).reshape(n_rows,n_cols)\n",
    "billboards = pd.DataFrame(billboards)\n",
    "billboards.columns = [\"Billboard 1\" , \"Billboard 2\"]\n",
    "billboards.head()"
   ]
  },
  {
   "cell_type": "code",
   "execution_count": null,
   "id": "be66fbc2",
   "metadata": {},
   "outputs": [],
   "source": []
  },
  {
   "cell_type": "code",
   "execution_count": null,
   "id": "df3f1eda",
   "metadata": {},
   "outputs": [],
   "source": []
  }
 ],
 "metadata": {
  "kernelspec": {
   "display_name": "Python 3 (ipykernel)",
   "language": "python",
   "name": "python3"
  },
  "language_info": {
   "codemirror_mode": {
    "name": "ipython",
    "version": 3
   },
   "file_extension": ".py",
   "mimetype": "text/x-python",
   "name": "python",
   "nbconvert_exporter": "python",
   "pygments_lexer": "ipython3",
   "version": "3.9.7"
  }
 },
 "nbformat": 4,
 "nbformat_minor": 5
}
