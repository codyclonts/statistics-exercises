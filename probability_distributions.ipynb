{
 "cells": [
  {
   "cell_type": "markdown",
   "id": "132923f4",
   "metadata": {},
   "source": [
    "#### 1 A bank found that the average number of cars waiting during the noon hour at a drive-up window follows a Poisson distribution with a mean of 2 cars.  Make a chart of this distribution and answer these questions concerning the probability of cars waiting at the drive-up window."
   ]
  },
  {
   "cell_type": "code",
   "execution_count": 2,
   "id": "82c8fb2c",
   "metadata": {},
   "outputs": [],
   "source": [
    "import matplotlib.pyplot as plt\n",
    "import numpy as np\n",
    "from scipy import stats\n",
    "\n",
    "\n",
    "np.random.seed(123)\n"
   ]
  },
  {
   "cell_type": "markdown",
   "id": "1186cf4b",
   "metadata": {},
   "source": [
    "# \\lambda (tab)"
   ]
  },
  {
   "cell_type": "code",
   "execution_count": 7,
   "id": "560df0c7",
   "metadata": {},
   "outputs": [
    {
     "data": {
      "text/plain": [
       "<scipy.stats._distn_infrastructure.rv_frozen at 0x7f92803f3670>"
      ]
     },
     "execution_count": 7,
     "metadata": {},
     "output_type": "execute_result"
    }
   ],
   "source": [
    "λ= 2 #events per hour\n",
    "\n",
    "n_cars = stats.poisson(λ)\n"
   ]
  },
  {
   "cell_type": "code",
   "execution_count": 16,
   "id": "bc2887d3",
   "metadata": {},
   "outputs": [
    {
     "data": {
      "text/plain": [
       "Text(0.5, 0, 'cars in line')"
      ]
     },
     "execution_count": 16,
     "metadata": {},
     "output_type": "execute_result"
    },
    {
     "data": {
      "image/png": "[encoded data removed]",
      "text/plain": [
       "<Figure size 648x432 with 1 Axes>"
      ]
     },
     "metadata": {
      "needs_background": "light"
     },
     "output_type": "display_data"
    }
   ],
   "source": [
    "\n",
    "    x = range(10)\n",
    "    y = n_cars.pmf(x)\n",
    "    \n",
    "    plt.figure(figsize = (9,6))\n",
    "    plt.bar(x, y, edgecolor='black', color='white', width=1)\n",
    "    plt.xticks(x)\n",
    "    plt.ylabel('P(X = x)')\n",
    "    plt.xlabel('cars in line')\n",
    "    \n"
   ]
  },
  {
   "cell_type": "code",
   "execution_count": 17,
   "id": "36c4aa0c",
   "metadata": {},
   "outputs": [
    {
     "data": {
      "text/plain": [
       "0.14287653950145296"
      ]
     },
     "execution_count": 17,
     "metadata": {},
     "output_type": "execute_result"
    }
   ],
   "source": [
    "n_cars.sf(3)"
   ]
  },
  {
   "cell_type": "code",
   "execution_count": 22,
   "id": "ad4bcae0",
   "metadata": {},
   "outputs": [
    {
     "data": {
      "text/plain": [
       "0.5939941502901616"
      ]
     },
     "execution_count": 22,
     "metadata": {},
     "output_type": "execute_result"
    }
   ],
   "source": [
    "n_cars.sf(1)"
   ]
  },
  {
   "cell_type": "code",
   "execution_count": 70,
   "id": "78d372f9",
   "metadata": {},
   "outputs": [
    {
     "data": {
      "text/plain": [
       "0.8646647167633873"
      ]
     },
     "execution_count": 70,
     "metadata": {},
     "output_type": "execute_result"
    }
   ],
   "source": [
    "# at least 1 car \n",
    "\n",
    "stats.poisson(2).sf(0)"
   ]
  },
  {
   "cell_type": "markdown",
   "id": "f0dbc187",
   "metadata": {},
   "source": [
    "#### 2 Grades of State University graduates are normally distributed with a mean of 3.0 and a standard deviation of .3. Calculate the following:\n",
    "\n"
   ]
  },
  {
   "cell_type": "markdown",
   "id": "37a29ae1",
   "metadata": {},
   "source": [
    "#### - What grade point average is required to be in the top 5% of the graduating class?"
   ]
  },
  {
   "cell_type": "code",
   "execution_count": 40,
   "id": "673ff11b",
   "metadata": {},
   "outputs": [
    {
     "data": {
      "text/plain": [
       "3.49"
      ]
     },
     "execution_count": 40,
     "metadata": {},
     "output_type": "execute_result"
    }
   ],
   "source": [
    "μ = 3.0\n",
    "σ = .3\n",
    "\n",
    "avg_gpa = stats.norm(μ,σ)\n",
    "round(avg_gpa.ppf(.95),2) \n"
   ]
  },
  {
   "cell_type": "code",
   "execution_count": 72,
   "id": "17840fc2",
   "metadata": {},
   "outputs": [
    {
     "data": {
      "text/plain": [
       "3.4934560880854417"
      ]
     },
     "execution_count": 72,
     "metadata": {},
     "output_type": "execute_result"
    }
   ],
   "source": [
    "#teacher solution\n",
    "avg_gpa = stats.norm(μ,σ).isf(.05)\n",
    "avg_gpa"
   ]
  },
  {
   "cell_type": "markdown",
   "id": "0562aee6",
   "metadata": {},
   "source": [
    "#### -What GPA constitutes the bottom 15% of the class?"
   ]
  },
  {
   "cell_type": "code",
   "execution_count": 41,
   "id": "4aba0d6a",
   "metadata": {},
   "outputs": [
    {
     "data": {
      "text/plain": [
       "2.69"
      ]
     },
     "execution_count": 41,
     "metadata": {},
     "output_type": "execute_result"
    }
   ],
   "source": [
    "μ = 3.0\n",
    "σ = .3\n",
    "\n",
    "avg_gpa = stats.norm(μ,σ)\n",
    "round(avg_gpa.ppf(.15),2)\n"
   ]
  },
  {
   "cell_type": "markdown",
   "id": "5dd09fe2",
   "metadata": {},
   "source": [
    "#### -An eccentric alumnus left scholarship money for students in the third decile from the bottom of their class. Determine the range of the third decile. Would a student with a 2.8 grade point average qualify for this scholarship?"
   ]
  },
  {
   "cell_type": "code",
   "execution_count": 33,
   "id": "07fd315d",
   "metadata": {},
   "outputs": [],
   "source": [
    "μ = 3.0\n",
    "σ = .3"
   ]
  },
  {
   "cell_type": "markdown",
   "id": "801ffe96",
   "metadata": {},
   "source": [
    "1st decile : 0-10\n",
    "2nd decile: 10-20\n",
    "3rd decile: 20-30"
   ]
  },
  {
   "cell_type": "code",
   "execution_count": 73,
   "id": "21e7912d",
   "metadata": {},
   "outputs": [
    {
     "data": {
      "text/plain": [
       "array([2.74751363, 2.84267985])"
      ]
     },
     "execution_count": 73,
     "metadata": {},
     "output_type": "execute_result"
    }
   ],
   "source": [
    "stats.norm(μ,σ).ppf([.2,.3])"
   ]
  },
  {
   "cell_type": "code",
   "execution_count": 76,
   "id": "2185d03c",
   "metadata": {},
   "outputs": [
    {
     "name": "stdout",
     "output_type": "stream",
     "text": [
      "yes\n"
     ]
    }
   ],
   "source": [
    "gpa = 2.8\n",
    "min_grade= stats.norm(μ,σ).ppf(.2)\n",
    "max_grade =  stats.norm(μ,σ).ppf(.3)\n",
    "if gpa > min_grade and gpa < max_grade:\n",
    "    print ('yes')\n",
    "else: \n",
    "    print ('no')"
   ]
  },
  {
   "cell_type": "code",
   "execution_count": 80,
   "id": "49aa64ba",
   "metadata": {},
   "outputs": [
    {
     "ename": "TypeError",
     "evalue": "only integer scalar arrays can be converted to a scalar index",
     "output_type": "error",
     "traceback": [
      "\u001b[0;31m---------------------------------------------------------------------------\u001b[0m",
      "\u001b[0;31mTypeError\u001b[0m                                 Traceback (most recent call last)",
      "\u001b[0;32m/var/folders/n9/2cn6jhrn6y18fntry1wgdn5m0000gp/T/ipykernel_3022/2416782919.py\u001b[0m in \u001b[0;36m<module>\u001b[0;34m\u001b[0m\n\u001b[1;32m      2\u001b[0m \u001b[0mmin_grade\u001b[0m\u001b[0;34m=\u001b[0m \u001b[0mstats\u001b[0m\u001b[0;34m.\u001b[0m\u001b[0mnorm\u001b[0m\u001b[0;34m(\u001b[0m\u001b[0mμ\u001b[0m\u001b[0;34m,\u001b[0m\u001b[0mσ\u001b[0m\u001b[0;34m)\u001b[0m\u001b[0;34m.\u001b[0m\u001b[0mppf\u001b[0m\u001b[0;34m(\u001b[0m\u001b[0;36m.2\u001b[0m\u001b[0;34m)\u001b[0m\u001b[0;34m\u001b[0m\u001b[0;34m\u001b[0m\u001b[0m\n\u001b[1;32m      3\u001b[0m \u001b[0mmax_grade\u001b[0m \u001b[0;34m=\u001b[0m  \u001b[0mstats\u001b[0m\u001b[0;34m.\u001b[0m\u001b[0mnorm\u001b[0m\u001b[0;34m(\u001b[0m\u001b[0mμ\u001b[0m\u001b[0;34m,\u001b[0m\u001b[0mσ\u001b[0m\u001b[0;34m)\u001b[0m\u001b[0;34m.\u001b[0m\u001b[0mppf\u001b[0m\u001b[0;34m(\u001b[0m\u001b[0;36m.3\u001b[0m\u001b[0;34m)\u001b[0m\u001b[0;34m\u001b[0m\u001b[0;34m\u001b[0m\u001b[0m\n\u001b[0;32m----> 4\u001b[0;31m \u001b[0;32mif\u001b[0m \u001b[0mgpa\u001b[0m \u001b[0;32min\u001b[0m \u001b[0mrange\u001b[0m\u001b[0;34m(\u001b[0m\u001b[0mstats\u001b[0m\u001b[0;34m.\u001b[0m\u001b[0mnorm\u001b[0m\u001b[0;34m(\u001b[0m\u001b[0mμ\u001b[0m\u001b[0;34m,\u001b[0m\u001b[0mσ\u001b[0m\u001b[0;34m)\u001b[0m\u001b[0;34m.\u001b[0m\u001b[0mppf\u001b[0m\u001b[0;34m(\u001b[0m\u001b[0;34m[\u001b[0m\u001b[0;36m.2\u001b[0m\u001b[0;34m,\u001b[0m\u001b[0;36m.3\u001b[0m\u001b[0;34m]\u001b[0m\u001b[0;34m)\u001b[0m\u001b[0;34m)\u001b[0m\u001b[0;34m:\u001b[0m\u001b[0;34m\u001b[0m\u001b[0;34m\u001b[0m\u001b[0m\n\u001b[0m\u001b[1;32m      5\u001b[0m     \u001b[0mprint\u001b[0m \u001b[0;34m(\u001b[0m\u001b[0;34m'yes'\u001b[0m\u001b[0;34m)\u001b[0m\u001b[0;34m\u001b[0m\u001b[0;34m\u001b[0m\u001b[0m\n\u001b[1;32m      6\u001b[0m \u001b[0;32melse\u001b[0m\u001b[0;34m:\u001b[0m\u001b[0;34m\u001b[0m\u001b[0;34m\u001b[0m\u001b[0m\n",
      "\u001b[0;31mTypeError\u001b[0m: only integer scalar arrays can be converted to a scalar index"
     ]
    }
   ],
   "source": [
    "gpa = 2.8\n",
    "min_grade= stats.norm(μ,σ).ppf(.2)\n",
    "max_grade =  stats.norm(μ,σ).ppf(.3)\n",
    "if gpa in range(stats.norm(μ,σ).ppf([.2,.3])):\n",
    "    print ('yes')\n",
    "else: \n",
    "    print ('no')"
   ]
  },
  {
   "cell_type": "code",
   "execution_count": 74,
   "id": "8ad66f8d",
   "metadata": {},
   "outputs": [
    {
     "data": {
      "text/plain": [
       "0.9522096477271853"
      ]
     },
     "execution_count": 74,
     "metadata": {},
     "output_type": "execute_result"
    }
   ],
   "source": [
    "stats.norm(μ,σ).cdf(3.5)"
   ]
  },
  {
   "cell_type": "markdown",
   "id": "c95df2d4",
   "metadata": {},
   "source": [
    "### 3 A marketing website has an average click-through rate of 2%. One day they observe 4326 visitors and 97 click-throughs. How likely is it that this many people or more click through?"
   ]
  },
  {
   "cell_type": "code",
   "execution_count": 37,
   "id": "a833e04c",
   "metadata": {},
   "outputs": [
    {
     "data": {
      "text/plain": [
       "2.2422561257512714"
      ]
     },
     "execution_count": 37,
     "metadata": {},
     "output_type": "execute_result"
    }
   ],
   "source": [
    "#find percent rate of how many people clicked though on that day \n",
    "\n",
    "97/4326*100"
   ]
  },
  {
   "cell_type": "code",
   "execution_count": 49,
   "id": "0bb1eddb",
   "metadata": {},
   "outputs": [
    {
     "data": {
      "text/plain": [
       "0.13975823631416445"
      ]
     },
     "execution_count": 49,
     "metadata": {},
     "output_type": "execute_result"
    }
   ],
   "source": [
    "click_rate = .02\n",
    "visitors = 4326\n",
    "stats.binom(visitors, click_rate).sf(96)"
   ]
  },
  {
   "cell_type": "markdown",
   "id": "138284e0",
   "metadata": {},
   "source": [
    "#### 4 You are working on some statistics homework consisting of 100 questions where all of the answers are a probability rounded to the hundreths place. Looking to save time, you put down random probabilities as the answer to each question.\n",
    "\n",
    "##### -What is the probability that at least one of your first 60 answers is correct?"
   ]
  },
  {
   "cell_type": "code",
   "execution_count": 54,
   "id": "51f7d7ce",
   "metadata": {},
   "outputs": [
    {
     "data": {
      "text/plain": [
       "0.45284335760923855"
      ]
     },
     "execution_count": 54,
     "metadata": {},
     "output_type": "execute_result"
    }
   ],
   "source": [
    "p = .01\n",
    "n = 60\n",
    "stats.binom(n,p).sf(0)"
   ]
  },
  {
   "cell_type": "markdown",
   "id": "3912dbd8",
   "metadata": {},
   "source": [
    "### 5. The codeup staff tends to get upset when the student break area is not cleaned up. Suppose that there's a 3% chance that any one student cleans the break area when they visit it, and, on any given day, about 90% of the 3 active cohorts of 22 students visit the break area. "
   ]
  },
  {
   "cell_type": "markdown",
   "id": "260d1f4d",
   "metadata": {},
   "source": [
    "#### -How likely is it that the break area gets cleaned up each day? "
   ]
  },
  {
   "cell_type": "code",
   "execution_count": 59,
   "id": "3c217442",
   "metadata": {},
   "outputs": [
    {
     "data": {
      "text/plain": [
       "59"
      ]
     },
     "execution_count": 59,
     "metadata": {},
     "output_type": "execute_result"
    }
   ],
   "source": [
    "round(3*22*.9) #how many students use the breakroom on any given day"
   ]
  },
  {
   "cell_type": "code",
   "execution_count": 61,
   "id": "cd0a3697",
   "metadata": {},
   "outputs": [
    {
     "data": {
      "text/plain": [
       "0.8342199288437352"
      ]
     },
     "execution_count": 61,
     "metadata": {},
     "output_type": "execute_result"
    }
   ],
   "source": [
    "p = .03\n",
    "n = 59\n",
    "stats.binom(n,p).sf(0)"
   ]
  },
  {
   "cell_type": "markdown",
   "id": "9d4b1030",
   "metadata": {},
   "source": [
    "#### - How likely is it that it goes two days without getting cleaned up? "
   ]
  },
  {
   "cell_type": "code",
   "execution_count": 69,
   "id": "d33f1499",
   "metadata": {},
   "outputs": [
    {
     "data": {
      "text/plain": [
       "0.027483031992576134"
      ]
     },
     "execution_count": 69,
     "metadata": {},
     "output_type": "execute_result"
    }
   ],
   "source": [
    "stats.binom(n*2,p).pmf(0)"
   ]
  },
  {
   "cell_type": "markdown",
   "id": "01b558e1",
   "metadata": {},
   "source": [
    "#### -All week?¶"
   ]
  },
  {
   "cell_type": "code",
   "execution_count": 66,
   "id": "d8fa5fc3",
   "metadata": {},
   "outputs": [
    {
     "data": {
      "text/plain": [
       "0.00012521651388091245"
      ]
     },
     "execution_count": 66,
     "metadata": {},
     "output_type": "execute_result"
    }
   ],
   "source": [
    "stats.binom(n*5,p).pmf(0)"
   ]
  },
  {
   "cell_type": "markdown",
   "id": "015126ee",
   "metadata": {},
   "source": [
    "#### 6 You want to get lunch at La Panaderia, but notice that the line is usually very long at lunchtime. After several weeks of careful observation, you notice that the average number of people in line when your lunch break starts is normally distributed with a mean of 15 and standard deviation of 3. If it takes 2 minutes for each person to order, and 10 minutes from ordering to getting your food, what is the likelihood that you have at least 15 minutes left to eat your food before you have to go back to class? Assume you have one hour for lunch, and ignore travel time to and from La Panaderia.\n",
    "\n"
   ]
  },
  {
   "cell_type": "code",
   "execution_count": 82,
   "id": "c1d711f7",
   "metadata": {},
   "outputs": [
    {
     "data": {
      "text/plain": [
       "0.6914624612740131"
      ]
     },
     "execution_count": 82,
     "metadata": {},
     "output_type": "execute_result"
    }
   ],
   "source": [
    "mean = 15*2 #minutes\n",
    "std_dev = 3*2 #minutes\n",
    "\n",
    "# 60 (total) - 15 (to eat) - 10(make food) - 2 (your time to order)= 33\n",
    "\n",
    "stats.norm(mean, std_dev).cdf(33)"
   ]
  },
  {
   "cell_type": "code",
   "execution_count": null,
   "id": "3d60f6e7",
   "metadata": {},
   "outputs": [],
   "source": [
    "#"
   ]
  }
 ],
 "metadata": {
  "kernelspec": {
   "display_name": "Python 3 (ipykernel)",
   "language": "python",
   "name": "python3"
  },
  "language_info": {
   "codemirror_mode": {
    "name": "ipython",
    "version": 3
   },
   "file_extension": ".py",
   "mimetype": "text/x-python",
   "name": "python",
   "nbconvert_exporter": "python",
   "pygments_lexer": "ipython3",
   "version": "3.9.7"
  }
 },
 "nbformat": 4,
 "nbformat_minor": 5
}
