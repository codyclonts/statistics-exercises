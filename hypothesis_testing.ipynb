{
 "cells": [
  {
   "cell_type": "markdown",
   "id": "ba8e2dba",
   "metadata": {},
   "source": [
    "## For each of the following questions, formulate a null and alternative hypothesis (be as specific as you can be), then give an example of what a true positive, true negative, type I and type II errors would look like. Note that some of the questions are intentionally phrased in a vague way. It is your job to reword these as more precise questions that could be tested."
   ]
  },
  {
   "cell_type": "markdown",
   "id": "ed905e9f",
   "metadata": {},
   "source": [
    "### -Has the network latency gone up since we switched internet service providers?"
   ]
  },
  {
   "cell_type": "markdown",
   "id": "6be218ec",
   "metadata": {},
   "source": [
    "#### - Null - Network latency has not changed or has decreased since we switched internet service providers"
   ]
  },
  {
   "cell_type": "markdown",
   "id": "70719290",
   "metadata": {},
   "source": [
    "#### -alternative- Network latency has gone up since we switched internet service providers"
   ]
  },
  {
   "cell_type": "markdown",
   "id": "b784a31f",
   "metadata": {},
   "source": [
    "#### -True positive- you test the network latency multiple times throughout the day and it does indeed seem like it has gone up since switching"
   ]
  },
  {
   "cell_type": "markdown",
   "id": "044a0397",
   "metadata": {},
   "source": [
    "#### - True Negative- After testing the network latency multiple times throughout different times of the day, it has proven that it has not gone up. "
   ]
  },
  {
   "cell_type": "markdown",
   "id": "adea0815",
   "metadata": {},
   "source": [
    "#### - Type 1 error- we think that network latency has gone up when in reality it hasn't. it could be dependent on outside factors such as time of day, weather, ect. "
   ]
  },
  {
   "cell_type": "markdown",
   "id": "2104493c",
   "metadata": {},
   "source": [
    "#### type 2 error- we think that network latency has remained the same when it has actually gone up. we could have tested when there wasn't much stress on the network, allowing for the latency to be less. "
   ]
  },
  {
   "cell_type": "markdown",
   "id": "df8273d9",
   "metadata": {},
   "source": [
    "### -Is the website redesign any good?"
   ]
  },
  {
   "cell_type": "markdown",
   "id": "a31f06c8",
   "metadata": {},
   "source": [
    "#### -null- the website redesign has not changed how easy it is for customers to use"
   ]
  },
  {
   "cell_type": "markdown",
   "id": "5894a318",
   "metadata": {},
   "source": [
    "#### - alternative - the website redesign made the website much more user friendly"
   ]
  },
  {
   "cell_type": "markdown",
   "id": "0e1bda97",
   "metadata": {},
   "source": [
    "#### - True positive - a poll was taken among the website users and an overwhelming majority prefer the new website design"
   ]
  },
  {
   "cell_type": "markdown",
   "id": "ef8a93ec",
   "metadata": {},
   "source": [
    "#### - True negative- most website users don't prefer the website redesign, instead wishing the website was how it used to be. "
   ]
  },
  {
   "cell_type": "markdown",
   "id": "654bdec8",
   "metadata": {},
   "source": [
    "#### - Type 1 error- only a small portion of the population is asked and many dislike the redesign, when in reality a vast majority prefer the redesign"
   ]
  },
  {
   "cell_type": "markdown",
   "id": "2997c7a7",
   "metadata": {},
   "source": [
    "#### - Type 2 error- we believe the redesign is good, despite a majority of users disliking the redesign "
   ]
  },
  {
   "cell_type": "markdown",
   "id": "d04cf2ab",
   "metadata": {},
   "source": [
    "### - Is our television ad driving more sales?"
   ]
  },
  {
   "cell_type": "markdown",
   "id": "7b09e41c",
   "metadata": {},
   "source": []
  },
  {
   "cell_type": "code",
   "execution_count": 1,
   "id": "739cbc33",
   "metadata": {},
   "outputs": [],
   "source": [
    "%matplotlib inline\n",
    "from math import sqrt\n",
    "\n",
    "import numpy as np\n",
    "import pandas as pd\n",
    "import scipy.stats as stats\n",
    "import matplotlib.pyplot as plt\n",
    "import seaborn as sns"
   ]
  },
  {
   "cell_type": "code",
   "execution_count": 2,
   "id": "a18c1b80",
   "metadata": {},
   "outputs": [],
   "source": [
    "from env import get_db_url\n"
   ]
  },
  {
   "cell_type": "code",
   "execution_count": 3,
   "id": "e5dff3ae",
   "metadata": {},
   "outputs": [
    {
     "data": {
      "text/html": [
       "<div>\n",
       "<style scoped>\n",
       "    .dataframe tbody tr th:only-of-type {\n",
       "        vertical-align: middle;\n",
       "    }\n",
       "\n",
       "    .dataframe tbody tr th {\n",
       "        vertical-align: top;\n",
       "    }\n",
       "\n",
       "    .dataframe thead th {\n",
       "        text-align: right;\n",
       "    }\n",
       "</style>\n",
       "<table border=\"1\" class=\"dataframe\">\n",
       "  <thead>\n",
       "    <tr style=\"text-align: right;\">\n",
       "      <th></th>\n",
       "      <th>0</th>\n",
       "      <th>1</th>\n",
       "      <th>2</th>\n",
       "      <th>3</th>\n",
       "      <th>4</th>\n",
       "      <th>5</th>\n",
       "      <th>6</th>\n",
       "      <th>7</th>\n",
       "      <th>8</th>\n",
       "      <th>9</th>\n",
       "      <th>...</th>\n",
       "      <th>7033</th>\n",
       "      <th>7034</th>\n",
       "      <th>7035</th>\n",
       "      <th>7036</th>\n",
       "      <th>7037</th>\n",
       "      <th>7038</th>\n",
       "      <th>7039</th>\n",
       "      <th>7040</th>\n",
       "      <th>7041</th>\n",
       "      <th>7042</th>\n",
       "    </tr>\n",
       "  </thead>\n",
       "  <tbody>\n",
       "    <tr>\n",
       "      <th>internet_service_type_id</th>\n",
       "      <td>1</td>\n",
       "      <td>1</td>\n",
       "      <td>2</td>\n",
       "      <td>2</td>\n",
       "      <td>2</td>\n",
       "      <td>1</td>\n",
       "      <td>2</td>\n",
       "      <td>2</td>\n",
       "      <td>1</td>\n",
       "      <td>1</td>\n",
       "      <td>...</td>\n",
       "      <td>3</td>\n",
       "      <td>2</td>\n",
       "      <td>2</td>\n",
       "      <td>2</td>\n",
       "      <td>3</td>\n",
       "      <td>1</td>\n",
       "      <td>2</td>\n",
       "      <td>1</td>\n",
       "      <td>1</td>\n",
       "      <td>1</td>\n",
       "    </tr>\n",
       "    <tr>\n",
       "      <th>customer_id</th>\n",
       "      <td>0002-ORFBO</td>\n",
       "      <td>0003-MKNFE</td>\n",
       "      <td>0004-TLHLJ</td>\n",
       "      <td>0011-IGKFF</td>\n",
       "      <td>0013-EXCHZ</td>\n",
       "      <td>0013-MHZWF</td>\n",
       "      <td>0013-SMEOE</td>\n",
       "      <td>0014-BMAQU</td>\n",
       "      <td>0015-UOCOJ</td>\n",
       "      <td>0016-QLJIS</td>\n",
       "      <td>...</td>\n",
       "      <td>9975-SKRNR</td>\n",
       "      <td>9978-HYCIN</td>\n",
       "      <td>9979-RGMZT</td>\n",
       "      <td>9985-MWVIX</td>\n",
       "      <td>9986-BONCE</td>\n",
       "      <td>9987-LUTYD</td>\n",
       "      <td>9992-RRAMN</td>\n",
       "      <td>9992-UJOEL</td>\n",
       "      <td>9993-LHIEB</td>\n",
       "      <td>9995-HOTOH</td>\n",
       "    </tr>\n",
       "    <tr>\n",
       "      <th>gender</th>\n",
       "      <td>Female</td>\n",
       "      <td>Male</td>\n",
       "      <td>Male</td>\n",
       "      <td>Male</td>\n",
       "      <td>Female</td>\n",
       "      <td>Female</td>\n",
       "      <td>Female</td>\n",
       "      <td>Male</td>\n",
       "      <td>Female</td>\n",
       "      <td>Female</td>\n",
       "      <td>...</td>\n",
       "      <td>Male</td>\n",
       "      <td>Male</td>\n",
       "      <td>Female</td>\n",
       "      <td>Female</td>\n",
       "      <td>Female</td>\n",
       "      <td>Female</td>\n",
       "      <td>Male</td>\n",
       "      <td>Male</td>\n",
       "      <td>Male</td>\n",
       "      <td>Male</td>\n",
       "    </tr>\n",
       "    <tr>\n",
       "      <th>senior_citizen</th>\n",
       "      <td>0</td>\n",
       "      <td>0</td>\n",
       "      <td>0</td>\n",
       "      <td>1</td>\n",
       "      <td>1</td>\n",
       "      <td>0</td>\n",
       "      <td>1</td>\n",
       "      <td>0</td>\n",
       "      <td>1</td>\n",
       "      <td>0</td>\n",
       "      <td>...</td>\n",
       "      <td>0</td>\n",
       "      <td>1</td>\n",
       "      <td>0</td>\n",
       "      <td>0</td>\n",
       "      <td>0</td>\n",
       "      <td>0</td>\n",
       "      <td>0</td>\n",
       "      <td>0</td>\n",
       "      <td>0</td>\n",
       "      <td>0</td>\n",
       "    </tr>\n",
       "    <tr>\n",
       "      <th>partner</th>\n",
       "      <td>Yes</td>\n",
       "      <td>No</td>\n",
       "      <td>No</td>\n",
       "      <td>Yes</td>\n",
       "      <td>Yes</td>\n",
       "      <td>No</td>\n",
       "      <td>Yes</td>\n",
       "      <td>Yes</td>\n",
       "      <td>No</td>\n",
       "      <td>Yes</td>\n",
       "      <td>...</td>\n",
       "      <td>No</td>\n",
       "      <td>Yes</td>\n",
       "      <td>No</td>\n",
       "      <td>No</td>\n",
       "      <td>No</td>\n",
       "      <td>No</td>\n",
       "      <td>Yes</td>\n",
       "      <td>No</td>\n",
       "      <td>Yes</td>\n",
       "      <td>Yes</td>\n",
       "    </tr>\n",
       "    <tr>\n",
       "      <th>dependents</th>\n",
       "      <td>Yes</td>\n",
       "      <td>No</td>\n",
       "      <td>No</td>\n",
       "      <td>No</td>\n",
       "      <td>No</td>\n",
       "      <td>Yes</td>\n",
       "      <td>No</td>\n",
       "      <td>No</td>\n",
       "      <td>No</td>\n",
       "      <td>Yes</td>\n",
       "      <td>...</td>\n",
       "      <td>No</td>\n",
       "      <td>Yes</td>\n",
       "      <td>No</td>\n",
       "      <td>No</td>\n",
       "      <td>No</td>\n",
       "      <td>No</td>\n",
       "      <td>No</td>\n",
       "      <td>No</td>\n",
       "      <td>Yes</td>\n",
       "      <td>Yes</td>\n",
       "    </tr>\n",
       "    <tr>\n",
       "      <th>tenure</th>\n",
       "      <td>9</td>\n",
       "      <td>9</td>\n",
       "      <td>4</td>\n",
       "      <td>13</td>\n",
       "      <td>3</td>\n",
       "      <td>9</td>\n",
       "      <td>71</td>\n",
       "      <td>63</td>\n",
       "      <td>7</td>\n",
       "      <td>65</td>\n",
       "      <td>...</td>\n",
       "      <td>1</td>\n",
       "      <td>47</td>\n",
       "      <td>7</td>\n",
       "      <td>1</td>\n",
       "      <td>4</td>\n",
       "      <td>13</td>\n",
       "      <td>22</td>\n",
       "      <td>2</td>\n",
       "      <td>67</td>\n",
       "      <td>63</td>\n",
       "    </tr>\n",
       "    <tr>\n",
       "      <th>phone_service</th>\n",
       "      <td>Yes</td>\n",
       "      <td>Yes</td>\n",
       "      <td>Yes</td>\n",
       "      <td>Yes</td>\n",
       "      <td>Yes</td>\n",
       "      <td>Yes</td>\n",
       "      <td>Yes</td>\n",
       "      <td>Yes</td>\n",
       "      <td>Yes</td>\n",
       "      <td>Yes</td>\n",
       "      <td>...</td>\n",
       "      <td>Yes</td>\n",
       "      <td>Yes</td>\n",
       "      <td>Yes</td>\n",
       "      <td>Yes</td>\n",
       "      <td>Yes</td>\n",
       "      <td>Yes</td>\n",
       "      <td>Yes</td>\n",
       "      <td>Yes</td>\n",
       "      <td>Yes</td>\n",
       "      <td>No</td>\n",
       "    </tr>\n",
       "    <tr>\n",
       "      <th>multiple_lines</th>\n",
       "      <td>No</td>\n",
       "      <td>Yes</td>\n",
       "      <td>No</td>\n",
       "      <td>No</td>\n",
       "      <td>No</td>\n",
       "      <td>No</td>\n",
       "      <td>No</td>\n",
       "      <td>Yes</td>\n",
       "      <td>No</td>\n",
       "      <td>Yes</td>\n",
       "      <td>...</td>\n",
       "      <td>No</td>\n",
       "      <td>No</td>\n",
       "      <td>No</td>\n",
       "      <td>No</td>\n",
       "      <td>No</td>\n",
       "      <td>No</td>\n",
       "      <td>Yes</td>\n",
       "      <td>No</td>\n",
       "      <td>No</td>\n",
       "      <td>No phone service</td>\n",
       "    </tr>\n",
       "    <tr>\n",
       "      <th>online_security</th>\n",
       "      <td>No</td>\n",
       "      <td>No</td>\n",
       "      <td>No</td>\n",
       "      <td>No</td>\n",
       "      <td>No</td>\n",
       "      <td>No</td>\n",
       "      <td>Yes</td>\n",
       "      <td>Yes</td>\n",
       "      <td>Yes</td>\n",
       "      <td>Yes</td>\n",
       "      <td>...</td>\n",
       "      <td>No internet service</td>\n",
       "      <td>No</td>\n",
       "      <td>No</td>\n",
       "      <td>No</td>\n",
       "      <td>No internet service</td>\n",
       "      <td>Yes</td>\n",
       "      <td>No</td>\n",
       "      <td>No</td>\n",
       "      <td>Yes</td>\n",
       "      <td>Yes</td>\n",
       "    </tr>\n",
       "    <tr>\n",
       "      <th>online_backup</th>\n",
       "      <td>Yes</td>\n",
       "      <td>No</td>\n",
       "      <td>No</td>\n",
       "      <td>Yes</td>\n",
       "      <td>No</td>\n",
       "      <td>No</td>\n",
       "      <td>Yes</td>\n",
       "      <td>No</td>\n",
       "      <td>No</td>\n",
       "      <td>Yes</td>\n",
       "      <td>...</td>\n",
       "      <td>No internet service</td>\n",
       "      <td>Yes</td>\n",
       "      <td>Yes</td>\n",
       "      <td>No</td>\n",
       "      <td>No internet service</td>\n",
       "      <td>No</td>\n",
       "      <td>No</td>\n",
       "      <td>Yes</td>\n",
       "      <td>No</td>\n",
       "      <td>Yes</td>\n",
       "    </tr>\n",
       "    <tr>\n",
       "      <th>device_protection</th>\n",
       "      <td>No</td>\n",
       "      <td>No</td>\n",
       "      <td>Yes</td>\n",
       "      <td>Yes</td>\n",
       "      <td>No</td>\n",
       "      <td>No</td>\n",
       "      <td>Yes</td>\n",
       "      <td>No</td>\n",
       "      <td>No</td>\n",
       "      <td>Yes</td>\n",
       "      <td>...</td>\n",
       "      <td>No internet service</td>\n",
       "      <td>No</td>\n",
       "      <td>No</td>\n",
       "      <td>No</td>\n",
       "      <td>No internet service</td>\n",
       "      <td>No</td>\n",
       "      <td>No</td>\n",
       "      <td>No</td>\n",
       "      <td>Yes</td>\n",
       "      <td>Yes</td>\n",
       "    </tr>\n",
       "    <tr>\n",
       "      <th>tech_support</th>\n",
       "      <td>Yes</td>\n",
       "      <td>No</td>\n",
       "      <td>No</td>\n",
       "      <td>No</td>\n",
       "      <td>Yes</td>\n",
       "      <td>Yes</td>\n",
       "      <td>Yes</td>\n",
       "      <td>Yes</td>\n",
       "      <td>No</td>\n",
       "      <td>Yes</td>\n",
       "      <td>...</td>\n",
       "      <td>No internet service</td>\n",
       "      <td>No</td>\n",
       "      <td>No</td>\n",
       "      <td>No</td>\n",
       "      <td>No internet service</td>\n",
       "      <td>Yes</td>\n",
       "      <td>No</td>\n",
       "      <td>No</td>\n",
       "      <td>Yes</td>\n",
       "      <td>No</td>\n",
       "    </tr>\n",
       "    <tr>\n",
       "      <th>streaming_tv</th>\n",
       "      <td>Yes</td>\n",
       "      <td>No</td>\n",
       "      <td>No</td>\n",
       "      <td>Yes</td>\n",
       "      <td>Yes</td>\n",
       "      <td>Yes</td>\n",
       "      <td>Yes</td>\n",
       "      <td>No</td>\n",
       "      <td>No</td>\n",
       "      <td>Yes</td>\n",
       "      <td>...</td>\n",
       "      <td>No internet service</td>\n",
       "      <td>Yes</td>\n",
       "      <td>Yes</td>\n",
       "      <td>No</td>\n",
       "      <td>No internet service</td>\n",
       "      <td>No</td>\n",
       "      <td>No</td>\n",
       "      <td>No</td>\n",
       "      <td>No</td>\n",
       "      <td>Yes</td>\n",
       "    </tr>\n",
       "    <tr>\n",
       "      <th>streaming_movies</th>\n",
       "      <td>No</td>\n",
       "      <td>Yes</td>\n",
       "      <td>No</td>\n",
       "      <td>Yes</td>\n",
       "      <td>No</td>\n",
       "      <td>Yes</td>\n",
       "      <td>Yes</td>\n",
       "      <td>No</td>\n",
       "      <td>No</td>\n",
       "      <td>Yes</td>\n",
       "      <td>...</td>\n",
       "      <td>No internet service</td>\n",
       "      <td>No</td>\n",
       "      <td>Yes</td>\n",
       "      <td>No</td>\n",
       "      <td>No internet service</td>\n",
       "      <td>No</td>\n",
       "      <td>Yes</td>\n",
       "      <td>No</td>\n",
       "      <td>Yes</td>\n",
       "      <td>Yes</td>\n",
       "    </tr>\n",
       "    <tr>\n",
       "      <th>contract_type_id</th>\n",
       "      <td>2</td>\n",
       "      <td>1</td>\n",
       "      <td>1</td>\n",
       "      <td>1</td>\n",
       "      <td>1</td>\n",
       "      <td>1</td>\n",
       "      <td>3</td>\n",
       "      <td>3</td>\n",
       "      <td>1</td>\n",
       "      <td>3</td>\n",
       "      <td>...</td>\n",
       "      <td>1</td>\n",
       "      <td>2</td>\n",
       "      <td>2</td>\n",
       "      <td>1</td>\n",
       "      <td>1</td>\n",
       "      <td>2</td>\n",
       "      <td>1</td>\n",
       "      <td>1</td>\n",
       "      <td>3</td>\n",
       "      <td>3</td>\n",
       "    </tr>\n",
       "    <tr>\n",
       "      <th>paperless_billing</th>\n",
       "      <td>Yes</td>\n",
       "      <td>No</td>\n",
       "      <td>Yes</td>\n",
       "      <td>Yes</td>\n",
       "      <td>Yes</td>\n",
       "      <td>Yes</td>\n",
       "      <td>Yes</td>\n",
       "      <td>Yes</td>\n",
       "      <td>Yes</td>\n",
       "      <td>Yes</td>\n",
       "      <td>...</td>\n",
       "      <td>No</td>\n",
       "      <td>Yes</td>\n",
       "      <td>Yes</td>\n",
       "      <td>Yes</td>\n",
       "      <td>No</td>\n",
       "      <td>No</td>\n",
       "      <td>Yes</td>\n",
       "      <td>Yes</td>\n",
       "      <td>No</td>\n",
       "      <td>No</td>\n",
       "    </tr>\n",
       "    <tr>\n",
       "      <th>payment_type_id</th>\n",
       "      <td>2</td>\n",
       "      <td>2</td>\n",
       "      <td>1</td>\n",
       "      <td>1</td>\n",
       "      <td>2</td>\n",
       "      <td>4</td>\n",
       "      <td>3</td>\n",
       "      <td>4</td>\n",
       "      <td>1</td>\n",
       "      <td>2</td>\n",
       "      <td>...</td>\n",
       "      <td>2</td>\n",
       "      <td>3</td>\n",
       "      <td>2</td>\n",
       "      <td>2</td>\n",
       "      <td>3</td>\n",
       "      <td>2</td>\n",
       "      <td>1</td>\n",
       "      <td>2</td>\n",
       "      <td>2</td>\n",
       "      <td>1</td>\n",
       "    </tr>\n",
       "    <tr>\n",
       "      <th>monthly_charges</th>\n",
       "      <td>65.6</td>\n",
       "      <td>59.9</td>\n",
       "      <td>73.9</td>\n",
       "      <td>98.0</td>\n",
       "      <td>83.9</td>\n",
       "      <td>69.4</td>\n",
       "      <td>109.7</td>\n",
       "      <td>84.65</td>\n",
       "      <td>48.2</td>\n",
       "      <td>90.45</td>\n",
       "      <td>...</td>\n",
       "      <td>18.9</td>\n",
       "      <td>84.95</td>\n",
       "      <td>94.05</td>\n",
       "      <td>70.15</td>\n",
       "      <td>20.95</td>\n",
       "      <td>55.15</td>\n",
       "      <td>85.1</td>\n",
       "      <td>50.3</td>\n",
       "      <td>67.85</td>\n",
       "      <td>59.0</td>\n",
       "    </tr>\n",
       "    <tr>\n",
       "      <th>total_charges</th>\n",
       "      <td>593.3</td>\n",
       "      <td>542.4</td>\n",
       "      <td>280.85</td>\n",
       "      <td>1237.85</td>\n",
       "      <td>267.4</td>\n",
       "      <td>571.45</td>\n",
       "      <td>7904.25</td>\n",
       "      <td>5377.8</td>\n",
       "      <td>340.35</td>\n",
       "      <td>5957.9</td>\n",
       "      <td>...</td>\n",
       "      <td>18.9</td>\n",
       "      <td>4018.05</td>\n",
       "      <td>633.45</td>\n",
       "      <td>70.15</td>\n",
       "      <td>85.5</td>\n",
       "      <td>742.9</td>\n",
       "      <td>1873.7</td>\n",
       "      <td>92.75</td>\n",
       "      <td>4627.65</td>\n",
       "      <td>3707.6</td>\n",
       "    </tr>\n",
       "    <tr>\n",
       "      <th>churn</th>\n",
       "      <td>No</td>\n",
       "      <td>No</td>\n",
       "      <td>Yes</td>\n",
       "      <td>Yes</td>\n",
       "      <td>Yes</td>\n",
       "      <td>No</td>\n",
       "      <td>No</td>\n",
       "      <td>No</td>\n",
       "      <td>No</td>\n",
       "      <td>No</td>\n",
       "      <td>...</td>\n",
       "      <td>No</td>\n",
       "      <td>No</td>\n",
       "      <td>No</td>\n",
       "      <td>Yes</td>\n",
       "      <td>Yes</td>\n",
       "      <td>No</td>\n",
       "      <td>Yes</td>\n",
       "      <td>No</td>\n",
       "      <td>No</td>\n",
       "      <td>No</td>\n",
       "    </tr>\n",
       "    <tr>\n",
       "      <th>internet_service_type</th>\n",
       "      <td>DSL</td>\n",
       "      <td>DSL</td>\n",
       "      <td>Fiber optic</td>\n",
       "      <td>Fiber optic</td>\n",
       "      <td>Fiber optic</td>\n",
       "      <td>DSL</td>\n",
       "      <td>Fiber optic</td>\n",
       "      <td>Fiber optic</td>\n",
       "      <td>DSL</td>\n",
       "      <td>DSL</td>\n",
       "      <td>...</td>\n",
       "      <td>None</td>\n",
       "      <td>Fiber optic</td>\n",
       "      <td>Fiber optic</td>\n",
       "      <td>Fiber optic</td>\n",
       "      <td>None</td>\n",
       "      <td>DSL</td>\n",
       "      <td>Fiber optic</td>\n",
       "      <td>DSL</td>\n",
       "      <td>DSL</td>\n",
       "      <td>DSL</td>\n",
       "    </tr>\n",
       "  </tbody>\n",
       "</table>\n",
       "<p>22 rows × 7043 columns</p>\n",
       "</div>"
      ],
      "text/plain": [
       "                                0           1            2            3     \\\n",
       "internet_service_type_id           1           1            2            2   \n",
       "customer_id               0002-ORFBO  0003-MKNFE   0004-TLHLJ   0011-IGKFF   \n",
       "gender                        Female        Male         Male         Male   \n",
       "senior_citizen                     0           0            0            1   \n",
       "partner                          Yes          No           No          Yes   \n",
       "dependents                       Yes          No           No           No   \n",
       "tenure                             9           9            4           13   \n",
       "phone_service                    Yes         Yes          Yes          Yes   \n",
       "multiple_lines                    No         Yes           No           No   \n",
       "online_security                   No          No           No           No   \n",
       "online_backup                    Yes          No           No          Yes   \n",
       "device_protection                 No          No          Yes          Yes   \n",
       "tech_support                     Yes          No           No           No   \n",
       "streaming_tv                     Yes          No           No          Yes   \n",
       "streaming_movies                  No         Yes           No          Yes   \n",
       "contract_type_id                   2           1            1            1   \n",
       "paperless_billing                Yes          No          Yes          Yes   \n",
       "payment_type_id                    2           2            1            1   \n",
       "monthly_charges                 65.6        59.9         73.9         98.0   \n",
       "total_charges                  593.3       542.4       280.85      1237.85   \n",
       "churn                             No          No          Yes          Yes   \n",
       "internet_service_type            DSL         DSL  Fiber optic  Fiber optic   \n",
       "\n",
       "                                 4           5            6            7     \\\n",
       "internet_service_type_id            2           1            2            2   \n",
       "customer_id                0013-EXCHZ  0013-MHZWF   0013-SMEOE   0014-BMAQU   \n",
       "gender                         Female      Female       Female         Male   \n",
       "senior_citizen                      1           0            1            0   \n",
       "partner                           Yes          No          Yes          Yes   \n",
       "dependents                         No         Yes           No           No   \n",
       "tenure                              3           9           71           63   \n",
       "phone_service                     Yes         Yes          Yes          Yes   \n",
       "multiple_lines                     No          No           No          Yes   \n",
       "online_security                    No          No          Yes          Yes   \n",
       "online_backup                      No          No          Yes           No   \n",
       "device_protection                  No          No          Yes           No   \n",
       "tech_support                      Yes         Yes          Yes          Yes   \n",
       "streaming_tv                      Yes         Yes          Yes           No   \n",
       "streaming_movies                   No         Yes          Yes           No   \n",
       "contract_type_id                    1           1            3            3   \n",
       "paperless_billing                 Yes         Yes          Yes          Yes   \n",
       "payment_type_id                     2           4            3            4   \n",
       "monthly_charges                  83.9        69.4        109.7        84.65   \n",
       "total_charges                   267.4      571.45      7904.25       5377.8   \n",
       "churn                             Yes          No           No           No   \n",
       "internet_service_type     Fiber optic         DSL  Fiber optic  Fiber optic   \n",
       "\n",
       "                                8           9     ...                 7033  \\\n",
       "internet_service_type_id           1           1  ...                    3   \n",
       "customer_id               0015-UOCOJ  0016-QLJIS  ...           9975-SKRNR   \n",
       "gender                        Female      Female  ...                 Male   \n",
       "senior_citizen                     1           0  ...                    0   \n",
       "partner                           No         Yes  ...                   No   \n",
       "dependents                        No         Yes  ...                   No   \n",
       "tenure                             7          65  ...                    1   \n",
       "phone_service                    Yes         Yes  ...                  Yes   \n",
       "multiple_lines                    No         Yes  ...                   No   \n",
       "online_security                  Yes         Yes  ...  No internet service   \n",
       "online_backup                     No         Yes  ...  No internet service   \n",
       "device_protection                 No         Yes  ...  No internet service   \n",
       "tech_support                      No         Yes  ...  No internet service   \n",
       "streaming_tv                      No         Yes  ...  No internet service   \n",
       "streaming_movies                  No         Yes  ...  No internet service   \n",
       "contract_type_id                   1           3  ...                    1   \n",
       "paperless_billing                Yes         Yes  ...                   No   \n",
       "payment_type_id                    1           2  ...                    2   \n",
       "monthly_charges                 48.2       90.45  ...                 18.9   \n",
       "total_charges                 340.35      5957.9  ...                 18.9   \n",
       "churn                             No          No  ...                   No   \n",
       "internet_service_type            DSL         DSL  ...                 None   \n",
       "\n",
       "                                 7034         7035         7036  \\\n",
       "internet_service_type_id            2            2            2   \n",
       "customer_id                9978-HYCIN   9979-RGMZT   9985-MWVIX   \n",
       "gender                           Male       Female       Female   \n",
       "senior_citizen                      1            0            0   \n",
       "partner                           Yes           No           No   \n",
       "dependents                        Yes           No           No   \n",
       "tenure                             47            7            1   \n",
       "phone_service                     Yes          Yes          Yes   \n",
       "multiple_lines                     No           No           No   \n",
       "online_security                    No           No           No   \n",
       "online_backup                     Yes          Yes           No   \n",
       "device_protection                  No           No           No   \n",
       "tech_support                       No           No           No   \n",
       "streaming_tv                      Yes          Yes           No   \n",
       "streaming_movies                   No          Yes           No   \n",
       "contract_type_id                    2            2            1   \n",
       "paperless_billing                 Yes          Yes          Yes   \n",
       "payment_type_id                     3            2            2   \n",
       "monthly_charges                 84.95        94.05        70.15   \n",
       "total_charges                 4018.05       633.45        70.15   \n",
       "churn                              No           No          Yes   \n",
       "internet_service_type     Fiber optic  Fiber optic  Fiber optic   \n",
       "\n",
       "                                         7037        7038         7039  \\\n",
       "internet_service_type_id                    3           1            2   \n",
       "customer_id                        9986-BONCE  9987-LUTYD   9992-RRAMN   \n",
       "gender                                 Female      Female         Male   \n",
       "senior_citizen                              0           0            0   \n",
       "partner                                    No          No          Yes   \n",
       "dependents                                 No          No           No   \n",
       "tenure                                      4          13           22   \n",
       "phone_service                             Yes         Yes          Yes   \n",
       "multiple_lines                             No          No          Yes   \n",
       "online_security           No internet service         Yes           No   \n",
       "online_backup             No internet service          No           No   \n",
       "device_protection         No internet service          No           No   \n",
       "tech_support              No internet service         Yes           No   \n",
       "streaming_tv              No internet service          No           No   \n",
       "streaming_movies          No internet service          No          Yes   \n",
       "contract_type_id                            1           2            1   \n",
       "paperless_billing                          No          No          Yes   \n",
       "payment_type_id                             3           2            1   \n",
       "monthly_charges                         20.95       55.15         85.1   \n",
       "total_charges                            85.5       742.9       1873.7   \n",
       "churn                                     Yes          No          Yes   \n",
       "internet_service_type                    None         DSL  Fiber optic   \n",
       "\n",
       "                                7040        7041              7042  \n",
       "internet_service_type_id           1           1                 1  \n",
       "customer_id               9992-UJOEL  9993-LHIEB        9995-HOTOH  \n",
       "gender                          Male        Male              Male  \n",
       "senior_citizen                     0           0                 0  \n",
       "partner                           No         Yes               Yes  \n",
       "dependents                        No         Yes               Yes  \n",
       "tenure                             2          67                63  \n",
       "phone_service                    Yes         Yes                No  \n",
       "multiple_lines                    No          No  No phone service  \n",
       "online_security                   No         Yes               Yes  \n",
       "online_backup                    Yes          No               Yes  \n",
       "device_protection                 No         Yes               Yes  \n",
       "tech_support                      No         Yes                No  \n",
       "streaming_tv                      No          No               Yes  \n",
       "streaming_movies                  No         Yes               Yes  \n",
       "contract_type_id                   1           3                 3  \n",
       "paperless_billing                Yes          No                No  \n",
       "payment_type_id                    2           2                 1  \n",
       "monthly_charges                 50.3       67.85              59.0  \n",
       "total_charges                  92.75     4627.65            3707.6  \n",
       "churn                             No          No                No  \n",
       "internet_service_type            DSL         DSL               DSL  \n",
       "\n",
       "[22 rows x 7043 columns]"
      ]
     },
     "execution_count": 3,
     "metadata": {},
     "output_type": "execute_result"
    }
   ],
   "source": [
    "url = get_db_url(\"telco_churn\")\n",
    "sql = \"\"\"\n",
    "SELECT *\n",
    "FROM customers\n",
    "JOIN internet_service_types USING (internet_service_type_id)\n",
    "\"\"\"\n",
    "\n",
    "df = pd.read_sql(sql,url)\n",
    "df.T"
   ]
  },
  {
   "cell_type": "markdown",
   "id": "036ddaf0",
   "metadata": {},
   "source": [
    "### 1. Use the telco_churn data. Does tenure correlate with monthly charges? Total charges? What happens if you control for phone and internet service?"
   ]
  },
  {
   "cell_type": "code",
   "execution_count": 4,
   "id": "47772196",
   "metadata": {},
   "outputs": [
    {
     "data": {
      "text/plain": [
       "<AxesSubplot:xlabel='tenure', ylabel='monthly_charges'>"
      ]
     },
     "execution_count": 4,
     "metadata": {},
     "output_type": "execute_result"
    },
    {
     "data": {
      "image/png": "[encoded data removed]",
      "text/plain": [
       "<Figure size 432x288 with 1 Axes>"
      ]
     },
     "metadata": {
      "needs_background": "light"
     },
     "output_type": "display_data"
    }
   ],
   "source": [
    "r, p = stats.pearsonr(df.tenure, df.monthly_charges)\n",
    "\n",
    "df.plot.scatter('tenure' , 'monthly_charges')\n"
   ]
  },
  {
   "cell_type": "code",
   "execution_count": 5,
   "id": "b79ce39c",
   "metadata": {},
   "outputs": [],
   "source": [
    "alpha = 0.05"
   ]
  },
  {
   "cell_type": "code",
   "execution_count": 6,
   "id": "dbe275f2",
   "metadata": {},
   "outputs": [
    {
     "data": {
      "text/plain": [
       "(0.24789985628615263, 4.0940449914811555e-99)"
      ]
     },
     "execution_count": 6,
     "metadata": {},
     "output_type": "execute_result"
    }
   ],
   "source": [
    "r, p = stats.pearsonr(df.tenure, df.monthly_charges)\n",
    "r,p"
   ]
  },
  {
   "cell_type": "code",
   "execution_count": 7,
   "id": "2f8f5f8f",
   "metadata": {},
   "outputs": [
    {
     "name": "stdout",
     "output_type": "stream",
     "text": [
      "reject null\n"
     ]
    }
   ],
   "source": [
    "if p < alpha:\n",
    "    print ('reject null')\n",
    "else:\n",
    "    print('accept null')"
   ]
  },
  {
   "cell_type": "markdown",
   "id": "233c502a",
   "metadata": {},
   "source": [
    "#### Tenure doesn't seem to have a strong correlation with monthly charges. "
   ]
  },
  {
   "cell_type": "markdown",
   "id": "9cdd81d6",
   "metadata": {},
   "source": [
    "### 2 Is there a relationship between how long an employee has been with the company and their salary?"
   ]
  },
  {
   "cell_type": "code",
   "execution_count": 8,
   "id": "3ea9f8ab",
   "metadata": {},
   "outputs": [],
   "source": [
    "url = get_db_url(\"employees\")\n",
    "sql = \"\"\"\n",
    "SELECT salary, DATEDIFF(curdate(),hire_date) as 'days'\n",
    "FROM salaries\n",
    "JOIN employees USING (emp_no)\n",
    "WHERE to_date > now()\n",
    "\"\"\"\n",
    "\n",
    "df = pd.read_sql(sql,url)\n"
   ]
  },
  {
   "cell_type": "code",
   "execution_count": 9,
   "id": "4694021e",
   "metadata": {},
   "outputs": [
    {
     "data": {
      "text/html": [
       "<div>\n",
       "<style scoped>\n",
       "    .dataframe tbody tr th:only-of-type {\n",
       "        vertical-align: middle;\n",
       "    }\n",
       "\n",
       "    .dataframe tbody tr th {\n",
       "        vertical-align: top;\n",
       "    }\n",
       "\n",
       "    .dataframe thead th {\n",
       "        text-align: right;\n",
       "    }\n",
       "</style>\n",
       "<table border=\"1\" class=\"dataframe\">\n",
       "  <thead>\n",
       "    <tr style=\"text-align: right;\">\n",
       "      <th></th>\n",
       "      <th>salary</th>\n",
       "      <th>days</th>\n",
       "    </tr>\n",
       "  </thead>\n",
       "  <tbody>\n",
       "    <tr>\n",
       "      <th>0</th>\n",
       "      <td>88958</td>\n",
       "      <td>13102</td>\n",
       "    </tr>\n",
       "    <tr>\n",
       "      <th>1</th>\n",
       "      <td>72527</td>\n",
       "      <td>13319</td>\n",
       "    </tr>\n",
       "    <tr>\n",
       "      <th>2</th>\n",
       "      <td>43311</td>\n",
       "      <td>13039</td>\n",
       "    </tr>\n",
       "    <tr>\n",
       "      <th>3</th>\n",
       "      <td>74057</td>\n",
       "      <td>12944</td>\n",
       "    </tr>\n",
       "    <tr>\n",
       "      <th>4</th>\n",
       "      <td>94692</td>\n",
       "      <td>11928</td>\n",
       "    </tr>\n",
       "  </tbody>\n",
       "</table>\n",
       "</div>"
      ],
      "text/plain": [
       "   salary   days\n",
       "0   88958  13102\n",
       "1   72527  13319\n",
       "2   43311  13039\n",
       "3   74057  12944\n",
       "4   94692  11928"
      ]
     },
     "execution_count": 9,
     "metadata": {},
     "output_type": "execute_result"
    }
   ],
   "source": [
    "df.head()"
   ]
  },
  {
   "cell_type": "code",
   "execution_count": 10,
   "id": "a56973c0",
   "metadata": {},
   "outputs": [
    {
     "name": "stdout",
     "output_type": "stream",
     "text": [
      "r =  0.30646256131860894\n",
      "p =  0.0\n"
     ]
    }
   ],
   "source": [
    "alpha = .05\n",
    "r, p = stats.pearsonr(df.days, df.salary)\n",
    "print ('r = ', r )\n",
    "print ('p = ' , p)"
   ]
  },
  {
   "cell_type": "code",
   "execution_count": 11,
   "id": "008a4011",
   "metadata": {},
   "outputs": [
    {
     "name": "stdout",
     "output_type": "stream",
     "text": [
      "reject null\n"
     ]
    }
   ],
   "source": [
    "if p < alpha:\n",
    "    print ('reject null')\n",
    "else:\n",
    "    print('accept null')"
   ]
  },
  {
   "cell_type": "markdown",
   "id": "c2480079",
   "metadata": {},
   "source": [
    "### Is there a relationship between how long an employee has been with the company and the number of titles they have had?\n"
   ]
  },
  {
   "cell_type": "code",
   "execution_count": 12,
   "id": "81168771",
   "metadata": {},
   "outputs": [
    {
     "data": {
      "text/html": [
       "<div>\n",
       "<style scoped>\n",
       "    .dataframe tbody tr th:only-of-type {\n",
       "        vertical-align: middle;\n",
       "    }\n",
       "\n",
       "    .dataframe tbody tr th {\n",
       "        vertical-align: top;\n",
       "    }\n",
       "\n",
       "    .dataframe thead th {\n",
       "        text-align: right;\n",
       "    }\n",
       "</style>\n",
       "<table border=\"1\" class=\"dataframe\">\n",
       "  <thead>\n",
       "    <tr style=\"text-align: right;\">\n",
       "      <th></th>\n",
       "      <th>emp_no</th>\n",
       "      <th>days</th>\n",
       "      <th>n_titles</th>\n",
       "    </tr>\n",
       "  </thead>\n",
       "  <tbody>\n",
       "    <tr>\n",
       "      <th>0</th>\n",
       "      <td>10001</td>\n",
       "      <td>13102</td>\n",
       "      <td>1</td>\n",
       "    </tr>\n",
       "    <tr>\n",
       "      <th>1</th>\n",
       "      <td>10002</td>\n",
       "      <td>13319</td>\n",
       "      <td>1</td>\n",
       "    </tr>\n",
       "    <tr>\n",
       "      <th>2</th>\n",
       "      <td>10003</td>\n",
       "      <td>13039</td>\n",
       "      <td>1</td>\n",
       "    </tr>\n",
       "    <tr>\n",
       "      <th>3</th>\n",
       "      <td>10004</td>\n",
       "      <td>12944</td>\n",
       "      <td>2</td>\n",
       "    </tr>\n",
       "    <tr>\n",
       "      <th>4</th>\n",
       "      <td>10005</td>\n",
       "      <td>11928</td>\n",
       "      <td>2</td>\n",
       "    </tr>\n",
       "  </tbody>\n",
       "</table>\n",
       "</div>"
      ],
      "text/plain": [
       "   emp_no   days  n_titles\n",
       "0   10001  13102         1\n",
       "1   10002  13319         1\n",
       "2   10003  13039         1\n",
       "3   10004  12944         2\n",
       "4   10005  11928         2"
      ]
     },
     "execution_count": 12,
     "metadata": {},
     "output_type": "execute_result"
    }
   ],
   "source": [
    "url = get_db_url(\"employees\")\n",
    "sql = \"\"\"\n",
    "SELECT emp_no,DATEDIFF(curdate(),hire_date) as 'days', count(*) as n_titles\n",
    "FROM titles\n",
    "JOIN employees USING (emp_no)\n",
    "GROUP BY emp_no\n",
    "\"\"\"\n",
    "\n",
    "df= pd.read_sql(sql,url)\n",
    "df.head()"
   ]
  },
  {
   "cell_type": "code",
   "execution_count": 13,
   "id": "9bb2ca5b",
   "metadata": {},
   "outputs": [
    {
     "name": "stdout",
     "output_type": "stream",
     "text": [
      "r =  0.2665989299136427\n",
      "p =  0.0\n",
      "reject null\n"
     ]
    }
   ],
   "source": [
    "alpha = .05\n",
    "r, p = stats.pearsonr(df.days, df.n_titles)\n",
    "print ('r = ', r )\n",
    "print ('p = ' , p)\n",
    "if p < alpha:\n",
    "    print ('reject null')\n",
    "else:\n",
    "    print('accept null')"
   ]
  },
  {
   "cell_type": "markdown",
   "id": "9f9bdbb8",
   "metadata": {},
   "source": [
    "### 3. Use the sleepstudy data. Is there a relationship between days and reaction time?"
   ]
  },
  {
   "cell_type": "code",
   "execution_count": 14,
   "id": "3ce25e27",
   "metadata": {},
   "outputs": [
    {
     "name": "stdout",
     "output_type": "stream",
     "text": [
      "sleepstudy\n",
      "\n",
      "PyDataset Documentation (adopted from R Documentation. The displayed examples are in R)\n",
      "\n",
      "## Reaction times in a sleep deprivation study\n",
      "\n",
      "### Description\n",
      "\n",
      "The average reaction time per day for subjects in a sleep deprivation study.\n",
      "On day 0 the subjects had their normal amount of sleep. Starting that night\n",
      "they were restricted to 3 hours of sleep per night. The observations represent\n",
      "the average reaction time on a series of tests given each day to each subject.\n",
      "\n",
      "### Format\n",
      "\n",
      "A data frame with 180 observations on the following 3 variables.\n",
      "\n",
      "`Reaction`\n",
      "\n",
      "Average reaction time (ms)\n",
      "\n",
      "`Days`\n",
      "\n",
      "Number of days of sleep deprivation\n",
      "\n",
      "`Subject`\n",
      "\n",
      "Subject number on which the observation was made.\n",
      "\n",
      "### Details\n",
      "\n",
      "These data are from the study described in Belenky et al. (2003), for the\n",
      "sleep-deprived group and for the first 10 days of the study, up to the\n",
      "recovery period.\n",
      "\n",
      "### References\n",
      "\n",
      "Gregory Belenky, Nancy J. Wesensten, David R. Thorne, Maria L. Thomas, Helen\n",
      "C. Sing, Daniel P. Redmond, Michael B. Russo and Thomas J. Balkin (2003)\n",
      "Patterns of performance degradation and restoration during sleep restriction\n",
      "and subsequent recovery: a sleep dose-response study. _Journal of Sleep\n",
      "Research_ **12**, 1–12.\n",
      "\n",
      "### Examples\n",
      "\n",
      "    str(sleepstudy)\n",
      "    require(lattice)\n",
      "    xyplot(Reaction ~ Days | Subject, sleepstudy, type = c(\"g\",\"p\",\"r\"),\n",
      "           index = function(x,y) coef(lm(y ~ x))[1],\n",
      "           xlab = \"Days of sleep deprivation\",\n",
      "           ylab = \"Average reaction time (ms)\", aspect = \"xy\")\n",
      "    (fm1 <- lmer(Reaction ~ Days + (Days|Subject), sleepstudy))\n",
      "    (fm2 <- lmer(Reaction ~ Days + (1|Subject) + (0+Days|Subject), sleepstudy))\n",
      "\n",
      "\n"
     ]
    }
   ],
   "source": [
    "import pydataset\n",
    "sleep = pydataset.data('sleepstudy', show_doc=True)"
   ]
  },
  {
   "cell_type": "markdown",
   "id": "749897fa",
   "metadata": {},
   "source": [
    "## CHI SQUARE"
   ]
  },
  {
   "cell_type": "markdown",
   "id": "870ad335",
   "metadata": {},
   "source": [
    "### 1. Use the following contingency table to help answer the question of whether using a macbook and being a codeup student are independent of each other."
   ]
  },
  {
   "cell_type": "code",
   "execution_count": 15,
   "id": "8addd3d4",
   "metadata": {},
   "outputs": [
    {
     "data": {
      "text/html": [
       "<div>\n",
       "<style scoped>\n",
       "    .dataframe tbody tr th:only-of-type {\n",
       "        vertical-align: middle;\n",
       "    }\n",
       "\n",
       "    .dataframe tbody tr th {\n",
       "        vertical-align: top;\n",
       "    }\n",
       "\n",
       "    .dataframe thead th {\n",
       "        text-align: right;\n",
       "    }\n",
       "</style>\n",
       "<table border=\"1\" class=\"dataframe\">\n",
       "  <thead>\n",
       "    <tr style=\"text-align: right;\">\n",
       "      <th></th>\n",
       "      <th>Unnamed: 0</th>\n",
       "      <th>codeup_student</th>\n",
       "      <th>not_student</th>\n",
       "    </tr>\n",
       "  </thead>\n",
       "  <tbody>\n",
       "    <tr>\n",
       "      <th>0</th>\n",
       "      <td>uses</td>\n",
       "      <td>49.0</td>\n",
       "      <td>20.0</td>\n",
       "    </tr>\n",
       "    <tr>\n",
       "      <th>1</th>\n",
       "      <td>doesn't_use</td>\n",
       "      <td>1.0</td>\n",
       "      <td>30.0</td>\n",
       "    </tr>\n",
       "  </tbody>\n",
       "</table>\n",
       "</div>"
      ],
      "text/plain": [
       "    Unnamed: 0  codeup_student  not_student\n",
       "0         uses            49.0         20.0\n",
       "1  doesn't_use             1.0         30.0"
      ]
     },
     "execution_count": 15,
     "metadata": {},
     "output_type": "execute_result"
    }
   ],
   "source": [
    "df = pd.read_excel (r'codeup_macbook.xlsx', sheet_name=0)\n",
    "df"
   ]
  },
  {
   "cell_type": "code",
   "execution_count": 16,
   "id": "023148f4",
   "metadata": {},
   "outputs": [
    {
     "data": {
      "text/html": [
       "<div>\n",
       "<style scoped>\n",
       "    .dataframe tbody tr th:only-of-type {\n",
       "        vertical-align: middle;\n",
       "    }\n",
       "\n",
       "    .dataframe tbody tr th {\n",
       "        vertical-align: top;\n",
       "    }\n",
       "\n",
       "    .dataframe thead th {\n",
       "        text-align: right;\n",
       "    }\n",
       "</style>\n",
       "<table border=\"1\" class=\"dataframe\">\n",
       "  <thead>\n",
       "    <tr style=\"text-align: right;\">\n",
       "      <th>not_student</th>\n",
       "      <th>20.0</th>\n",
       "      <th>30.0</th>\n",
       "    </tr>\n",
       "    <tr>\n",
       "      <th>codeup_student</th>\n",
       "      <th></th>\n",
       "      <th></th>\n",
       "    </tr>\n",
       "  </thead>\n",
       "  <tbody>\n",
       "    <tr>\n",
       "      <th>1.0</th>\n",
       "      <td>0</td>\n",
       "      <td>1</td>\n",
       "    </tr>\n",
       "    <tr>\n",
       "      <th>49.0</th>\n",
       "      <td>1</td>\n",
       "      <td>0</td>\n",
       "    </tr>\n",
       "  </tbody>\n",
       "</table>\n",
       "</div>"
      ],
      "text/plain": [
       "not_student     20.0  30.0\n",
       "codeup_student            \n",
       "1.0                0     1\n",
       "49.0               1     0"
      ]
     },
     "execution_count": 16,
     "metadata": {},
     "output_type": "execute_result"
    }
   ],
   "source": [
    "observed = pd.crosstab(df.codeup_student,df.not_student)\n",
    "observed"
   ]
  },
  {
   "cell_type": "code",
   "execution_count": 17,
   "id": "e0651137",
   "metadata": {},
   "outputs": [
    {
     "name": "stdout",
     "output_type": "stream",
     "text": [
      "Observed\n",
      "\n",
      "[[0 1]\n",
      " [1 0]]\n",
      "---\n",
      "Expected\n",
      "\n",
      "[[0.5 0.5]\n",
      " [0.5 0.5]]\n",
      "---\n",
      "\n",
      "chi^2 = 0.0000\n",
      "p     = 1.0000\n"
     ]
    }
   ],
   "source": [
    "chi2, p, degf, expected = stats.chi2_contingency(observed)\n",
    "\n",
    "print('Observed\\n')\n",
    "print(observed.values)\n",
    "print('---\\nExpected\\n')\n",
    "print(expected)\n",
    "print('---\\n')\n",
    "print(f'chi^2 = {chi2:.4f}')\n",
    "print(f'p     = {p:.4f}')\n"
   ]
  },
  {
   "cell_type": "code",
   "execution_count": 18,
   "id": "c79cd5ef",
   "metadata": {},
   "outputs": [],
   "source": [
    "alpha = .05"
   ]
  },
  {
   "cell_type": "code",
   "execution_count": 19,
   "id": "6072f2da",
   "metadata": {},
   "outputs": [
    {
     "name": "stdout",
     "output_type": "stream",
     "text": [
      "accept the null\n"
     ]
    }
   ],
   "source": [
    "if p < alpha:\n",
    "    print(\"reject the null\")\n",
    "else:\n",
    "    print(\"accept the null\")"
   ]
  },
  {
   "cell_type": "markdown",
   "id": "82434ee6",
   "metadata": {},
   "source": [
    "### ALT METHOD "
   ]
  },
  {
   "cell_type": "code",
   "execution_count": 20,
   "id": "92d5a15d",
   "metadata": {},
   "outputs": [
    {
     "data": {
      "text/plain": [
       "100"
      ]
     },
     "execution_count": 20,
     "metadata": {},
     "output_type": "execute_result"
    }
   ],
   "source": [
    "index = ['uses', 'no_use']\n",
    "columns = ['student','not_student']\n",
    "\n",
    "df = pd.DataFrame([[49, 20] , [1, 30]], index = index, columns = columns)\n",
    "n = df.values.sum()\n",
    "n"
   ]
  },
  {
   "cell_type": "code",
   "execution_count": 21,
   "id": "b9c11c0c",
   "metadata": {},
   "outputs": [
    {
     "data": {
      "text/html": [
       "<div>\n",
       "<style scoped>\n",
       "    .dataframe tbody tr th:only-of-type {\n",
       "        vertical-align: middle;\n",
       "    }\n",
       "\n",
       "    .dataframe tbody tr th {\n",
       "        vertical-align: top;\n",
       "    }\n",
       "\n",
       "    .dataframe thead th {\n",
       "        text-align: right;\n",
       "    }\n",
       "</style>\n",
       "<table border=\"1\" class=\"dataframe\">\n",
       "  <thead>\n",
       "    <tr style=\"text-align: right;\">\n",
       "      <th>not_student</th>\n",
       "      <th>20</th>\n",
       "      <th>30</th>\n",
       "    </tr>\n",
       "    <tr>\n",
       "      <th>student</th>\n",
       "      <th></th>\n",
       "      <th></th>\n",
       "    </tr>\n",
       "  </thead>\n",
       "  <tbody>\n",
       "    <tr>\n",
       "      <th>1</th>\n",
       "      <td>0</td>\n",
       "      <td>1</td>\n",
       "    </tr>\n",
       "    <tr>\n",
       "      <th>49</th>\n",
       "      <td>1</td>\n",
       "      <td>0</td>\n",
       "    </tr>\n",
       "  </tbody>\n",
       "</table>\n",
       "</div>"
      ],
      "text/plain": [
       "not_student  20  30\n",
       "student            \n",
       "1             0   1\n",
       "49            1   0"
      ]
     },
     "execution_count": 21,
     "metadata": {},
     "output_type": "execute_result"
    }
   ],
   "source": [
    "observed = pd.crosstab(df.student, df.not_student)\n",
    "observed"
   ]
  },
  {
   "cell_type": "code",
   "execution_count": 22,
   "id": "a6f3b2d7",
   "metadata": {},
   "outputs": [
    {
     "name": "stdout",
     "output_type": "stream",
     "text": [
      "Observed\n",
      "\n",
      "[[0 1]\n",
      " [1 0]]\n",
      "---\n",
      "Expected\n",
      "\n",
      "[[0.5 0.5]\n",
      " [0.5 0.5]]\n",
      "---\n",
      "\n",
      "chi^2 = 0.0000\n",
      "p     = 1.0000\n"
     ]
    }
   ],
   "source": [
    "chi2, p, degf, expected = stats.chi2_contingency(observed)\n",
    "\n",
    "print('Observed\\n')\n",
    "print(observed.values)\n",
    "print('---\\nExpected\\n')\n",
    "print(expected)\n",
    "print('---\\n')\n",
    "print(f'chi^2 = {chi2:.4f}')\n",
    "print(f'p     = {p:.4f}')"
   ]
  },
  {
   "cell_type": "code",
   "execution_count": 23,
   "id": "c9aa8d44",
   "metadata": {},
   "outputs": [
    {
     "name": "stdout",
     "output_type": "stream",
     "text": [
      "Fail to reject the null\n"
     ]
    }
   ],
   "source": [
    "if p < alpha:\n",
    "    print('Reject the null')\n",
    "else:\n",
    "    print('Fail to reject the null')"
   ]
  },
  {
   "cell_type": "markdown",
   "id": "0de6a8ff",
   "metadata": {},
   "source": [
    "### ALT ALT METHOD"
   ]
  },
  {
   "cell_type": "code",
   "execution_count": 24,
   "id": "b6d98d1d",
   "metadata": {},
   "outputs": [
    {
     "data": {
      "text/plain": [
       "100"
      ]
     },
     "execution_count": 24,
     "metadata": {},
     "output_type": "execute_result"
    }
   ],
   "source": [
    "index = ['uses', 'no_use']\n",
    "columns = ['student','not_student']\n",
    "\n",
    "df = pd.DataFrame([[49, 20] , [1, 30]], index = index, columns = columns)\n",
    "n = df.values.sum()\n",
    "n"
   ]
  },
  {
   "cell_type": "code",
   "execution_count": null,
   "id": "b14fa5c4",
   "metadata": {},
   "outputs": [],
   "source": []
  },
  {
   "cell_type": "code",
   "execution_count": 25,
   "id": "b2615788",
   "metadata": {},
   "outputs": [
    {
     "data": {
      "text/html": [
       "<div>\n",
       "<style scoped>\n",
       "    .dataframe tbody tr th:only-of-type {\n",
       "        vertical-align: middle;\n",
       "    }\n",
       "\n",
       "    .dataframe tbody tr th {\n",
       "        vertical-align: top;\n",
       "    }\n",
       "\n",
       "    .dataframe thead th {\n",
       "        text-align: right;\n",
       "    }\n",
       "</style>\n",
       "<table border=\"1\" class=\"dataframe\">\n",
       "  <thead>\n",
       "    <tr style=\"text-align: right;\">\n",
       "      <th></th>\n",
       "      <th>student</th>\n",
       "      <th>not_student</th>\n",
       "    </tr>\n",
       "  </thead>\n",
       "  <tbody>\n",
       "    <tr>\n",
       "      <th>uses</th>\n",
       "      <td>49</td>\n",
       "      <td>20</td>\n",
       "    </tr>\n",
       "    <tr>\n",
       "      <th>no_use</th>\n",
       "      <td>1</td>\n",
       "      <td>30</td>\n",
       "    </tr>\n",
       "  </tbody>\n",
       "</table>\n",
       "</div>"
      ],
      "text/plain": [
       "        student  not_student\n",
       "uses         49           20\n",
       "no_use        1           30"
      ]
     },
     "execution_count": 25,
     "metadata": {},
     "output_type": "execute_result"
    }
   ],
   "source": [
    "df "
   ]
  },
  {
   "cell_type": "code",
   "execution_count": 26,
   "id": "e5cbac12",
   "metadata": {},
   "outputs": [],
   "source": [
    "# calculate the proportions"
   ]
  },
  {
   "cell_type": "markdown",
   "id": "e0e75770",
   "metadata": {},
   "source": [
    "CodeUp = .5\n",
    "Not_codeUp = .5\n",
    "Uses_m=.69\n",
    "No_use_m = .31"
   ]
  },
  {
   "cell_type": "code",
   "execution_count": 27,
   "id": "6b2fbd3a",
   "metadata": {},
   "outputs": [
    {
     "data": {
      "text/plain": [
       "1.0"
      ]
     },
     "execution_count": 27,
     "metadata": {},
     "output_type": "execute_result"
    }
   ],
   "source": [
    "expected_proportions = pd.DataFrame([[.345, .345] , [.155, .155]], index = index, columns = columns)\n",
    "x = expected_proportions.values.sum()\n",
    "x"
   ]
  },
  {
   "cell_type": "code",
   "execution_count": 28,
   "id": "a26e3e28",
   "metadata": {},
   "outputs": [
    {
     "data": {
      "text/html": [
       "<div>\n",
       "<style scoped>\n",
       "    .dataframe tbody tr th:only-of-type {\n",
       "        vertical-align: middle;\n",
       "    }\n",
       "\n",
       "    .dataframe tbody tr th {\n",
       "        vertical-align: top;\n",
       "    }\n",
       "\n",
       "    .dataframe thead th {\n",
       "        text-align: right;\n",
       "    }\n",
       "</style>\n",
       "<table border=\"1\" class=\"dataframe\">\n",
       "  <thead>\n",
       "    <tr style=\"text-align: right;\">\n",
       "      <th></th>\n",
       "      <th>student</th>\n",
       "      <th>not_student</th>\n",
       "    </tr>\n",
       "  </thead>\n",
       "  <tbody>\n",
       "    <tr>\n",
       "      <th>uses</th>\n",
       "      <td>34.5</td>\n",
       "      <td>34.5</td>\n",
       "    </tr>\n",
       "    <tr>\n",
       "      <th>no_use</th>\n",
       "      <td>15.5</td>\n",
       "      <td>15.5</td>\n",
       "    </tr>\n",
       "  </tbody>\n",
       "</table>\n",
       "</div>"
      ],
      "text/plain": [
       "        student  not_student\n",
       "uses       34.5         34.5\n",
       "no_use     15.5         15.5"
      ]
     },
     "execution_count": 28,
     "metadata": {},
     "output_type": "execute_result"
    }
   ],
   "source": [
    "expected = pd.DataFrame([[34.5, 34.5] , [15.5, 15.5]], index = index, columns = columns)\n",
    "expected_proportions = pd.DataFrame([[.345, .345] , [.155, .155]], index = index, columns = columns)\n",
    "x = expected.values.sum()\n",
    "x\n",
    "expected"
   ]
  },
  {
   "cell_type": "code",
   "execution_count": 29,
   "id": "ed0776a9",
   "metadata": {},
   "outputs": [
    {
     "name": "stdout",
     "output_type": "stream",
     "text": [
      "Observed\n",
      "not_student  20  30\n",
      "student            \n",
      "1             0   1\n",
      "49            1   0\n",
      "---\n",
      "Expected\n",
      "        student  not_student\n",
      "uses       34.5         34.5\n",
      "no_use     15.5         15.5\n",
      "---\n",
      "\n",
      "chi^2 = nan\n",
      "p     = nan\n"
     ]
    }
   ],
   "source": [
    "chi2 = ((observed - expected)**2 / expected).values.sum()\n",
    "\n",
    "nrows, ncols = observed.shape\n",
    "\n",
    "degrees_of_freedom = (nrows - 1) * (ncols - 1)\n",
    "\n",
    "p = stats.chi2(degrees_of_freedom).sf(chi2)\n",
    "\n",
    "print('Observed')\n",
    "print(observed)\n",
    "print('---\\nExpected')\n",
    "print(expected)\n",
    "print('---\\n')\n",
    "print(f'chi^2 = {chi2:.4f}')\n",
    "print(f'p     = {p:.4f}')"
   ]
  },
  {
   "cell_type": "code",
   "execution_count": 30,
   "id": "e8dd9afb",
   "metadata": {},
   "outputs": [
    {
     "data": {
      "text/plain": [
       "(0.0, 1.0, 0, array([49., 20.]))"
      ]
     },
     "execution_count": 30,
     "metadata": {},
     "output_type": "execute_result"
    }
   ],
   "source": [
    "stats.chi2_contingency([49,20],[1,30])"
   ]
  },
  {
   "cell_type": "markdown",
   "id": "7a79f68e",
   "metadata": {},
   "source": [
    "### Choose another 2 categorical variables from the mpg dataset and perform a chi2 contingency table test with them. Be sure to state your null and alternative hypotheses."
   ]
  },
  {
   "cell_type": "code",
   "execution_count": 31,
   "id": "eae47cb4",
   "metadata": {},
   "outputs": [],
   "source": [
    "from pydataset import data"
   ]
  },
  {
   "cell_type": "code",
   "execution_count": 32,
   "id": "72d77d9b",
   "metadata": {},
   "outputs": [
    {
     "data": {
      "text/html": [
       "<div>\n",
       "<style scoped>\n",
       "    .dataframe tbody tr th:only-of-type {\n",
       "        vertical-align: middle;\n",
       "    }\n",
       "\n",
       "    .dataframe tbody tr th {\n",
       "        vertical-align: top;\n",
       "    }\n",
       "\n",
       "    .dataframe thead th {\n",
       "        text-align: right;\n",
       "    }\n",
       "</style>\n",
       "<table border=\"1\" class=\"dataframe\">\n",
       "  <thead>\n",
       "    <tr style=\"text-align: right;\">\n",
       "      <th></th>\n",
       "      <th>manufacturer</th>\n",
       "      <th>model</th>\n",
       "      <th>displ</th>\n",
       "      <th>year</th>\n",
       "      <th>cyl</th>\n",
       "      <th>trans</th>\n",
       "      <th>drv</th>\n",
       "      <th>cty</th>\n",
       "      <th>hwy</th>\n",
       "      <th>fl</th>\n",
       "      <th>class</th>\n",
       "      <th>transmission</th>\n",
       "    </tr>\n",
       "  </thead>\n",
       "  <tbody>\n",
       "    <tr>\n",
       "      <th>1</th>\n",
       "      <td>audi</td>\n",
       "      <td>a4</td>\n",
       "      <td>1.8</td>\n",
       "      <td>1999</td>\n",
       "      <td>4</td>\n",
       "      <td>auto(l5)</td>\n",
       "      <td>f</td>\n",
       "      <td>18</td>\n",
       "      <td>29</td>\n",
       "      <td>p</td>\n",
       "      <td>compact</td>\n",
       "      <td>auto</td>\n",
       "    </tr>\n",
       "    <tr>\n",
       "      <th>2</th>\n",
       "      <td>audi</td>\n",
       "      <td>a4</td>\n",
       "      <td>1.8</td>\n",
       "      <td>1999</td>\n",
       "      <td>4</td>\n",
       "      <td>manual(m5)</td>\n",
       "      <td>f</td>\n",
       "      <td>21</td>\n",
       "      <td>29</td>\n",
       "      <td>p</td>\n",
       "      <td>compact</td>\n",
       "      <td>manual</td>\n",
       "    </tr>\n",
       "    <tr>\n",
       "      <th>3</th>\n",
       "      <td>audi</td>\n",
       "      <td>a4</td>\n",
       "      <td>2.0</td>\n",
       "      <td>2008</td>\n",
       "      <td>4</td>\n",
       "      <td>manual(m6)</td>\n",
       "      <td>f</td>\n",
       "      <td>20</td>\n",
       "      <td>31</td>\n",
       "      <td>p</td>\n",
       "      <td>compact</td>\n",
       "      <td>manual</td>\n",
       "    </tr>\n",
       "    <tr>\n",
       "      <th>4</th>\n",
       "      <td>audi</td>\n",
       "      <td>a4</td>\n",
       "      <td>2.0</td>\n",
       "      <td>2008</td>\n",
       "      <td>4</td>\n",
       "      <td>auto(av)</td>\n",
       "      <td>f</td>\n",
       "      <td>21</td>\n",
       "      <td>30</td>\n",
       "      <td>p</td>\n",
       "      <td>compact</td>\n",
       "      <td>auto</td>\n",
       "    </tr>\n",
       "    <tr>\n",
       "      <th>5</th>\n",
       "      <td>audi</td>\n",
       "      <td>a4</td>\n",
       "      <td>2.8</td>\n",
       "      <td>1999</td>\n",
       "      <td>6</td>\n",
       "      <td>auto(l5)</td>\n",
       "      <td>f</td>\n",
       "      <td>16</td>\n",
       "      <td>26</td>\n",
       "      <td>p</td>\n",
       "      <td>compact</td>\n",
       "      <td>auto</td>\n",
       "    </tr>\n",
       "  </tbody>\n",
       "</table>\n",
       "</div>"
      ],
      "text/plain": [
       "  manufacturer model  displ  year  cyl       trans drv  cty  hwy fl    class  \\\n",
       "1         audi    a4    1.8  1999    4    auto(l5)   f   18   29  p  compact   \n",
       "2         audi    a4    1.8  1999    4  manual(m5)   f   21   29  p  compact   \n",
       "3         audi    a4    2.0  2008    4  manual(m6)   f   20   31  p  compact   \n",
       "4         audi    a4    2.0  2008    4    auto(av)   f   21   30  p  compact   \n",
       "5         audi    a4    2.8  1999    6    auto(l5)   f   16   26  p  compact   \n",
       "\n",
       "  transmission  \n",
       "1         auto  \n",
       "2       manual  \n",
       "3       manual  \n",
       "4         auto  \n",
       "5         auto  "
      ]
     },
     "execution_count": 32,
     "metadata": {},
     "output_type": "execute_result"
    }
   ],
   "source": [
    "mpg = data('mpg')\n",
    "mpg['transmission'] = mpg.trans.str[:-4] # a little cleaning goes a long way\n",
    "mpg.head()"
   ]
  },
  {
   "cell_type": "code",
   "execution_count": 33,
   "id": "90a77e9d",
   "metadata": {},
   "outputs": [
    {
     "data": {
      "text/html": [
       "<div>\n",
       "<style scoped>\n",
       "    .dataframe tbody tr th:only-of-type {\n",
       "        vertical-align: middle;\n",
       "    }\n",
       "\n",
       "    .dataframe tbody tr th {\n",
       "        vertical-align: top;\n",
       "    }\n",
       "\n",
       "    .dataframe thead th {\n",
       "        text-align: right;\n",
       "    }\n",
       "</style>\n",
       "<table border=\"1\" class=\"dataframe\">\n",
       "  <thead>\n",
       "    <tr style=\"text-align: right;\">\n",
       "      <th>year</th>\n",
       "      <th>1999</th>\n",
       "      <th>2008</th>\n",
       "    </tr>\n",
       "    <tr>\n",
       "      <th>transmission</th>\n",
       "      <th></th>\n",
       "      <th></th>\n",
       "    </tr>\n",
       "  </thead>\n",
       "  <tbody>\n",
       "    <tr>\n",
       "      <th>auto</th>\n",
       "      <td>74</td>\n",
       "      <td>83</td>\n",
       "    </tr>\n",
       "    <tr>\n",
       "      <th>manual</th>\n",
       "      <td>43</td>\n",
       "      <td>34</td>\n",
       "    </tr>\n",
       "  </tbody>\n",
       "</table>\n",
       "</div>"
      ],
      "text/plain": [
       "year          1999  2008\n",
       "transmission            \n",
       "auto            74    83\n",
       "manual          43    34"
      ]
     },
     "execution_count": 33,
     "metadata": {},
     "output_type": "execute_result"
    }
   ],
   "source": [
    "observed = pd.crosstab(mpg.transmission, mpg.year)\n",
    "observed"
   ]
  },
  {
   "cell_type": "code",
   "execution_count": 34,
   "id": "8e3edd92",
   "metadata": {},
   "outputs": [
    {
     "name": "stdout",
     "output_type": "stream",
     "text": [
      "Observed\n",
      "\n",
      "[[74 83]\n",
      " [43 34]]\n",
      "---\n",
      "Expected\n",
      "\n",
      "[[78.5 78.5]\n",
      " [38.5 38.5]]\n",
      "---\n",
      "\n",
      "chi^2 = 1.2388\n",
      "p     = 0.2657\n"
     ]
    }
   ],
   "source": [
    "chi2, p, degf, expected = stats.chi2_contingency(observed)\n",
    "\n",
    "print('Observed\\n')\n",
    "print(observed.values)\n",
    "print('---\\nExpected\\n')\n",
    "print(expected)\n",
    "print('---\\n')\n",
    "print(f'chi^2 = {chi2:.4f}')\n",
    "print(f'p     = {p:.4f}')\n"
   ]
  },
  {
   "cell_type": "markdown",
   "id": "3c60d194",
   "metadata": {},
   "source": [
    "### 3.Is an employee's gender independent of whether an employee works in sales or marketing? (only look at current employees)"
   ]
  },
  {
   "cell_type": "code",
   "execution_count": 35,
   "id": "1fe0b1dc",
   "metadata": {},
   "outputs": [
    {
     "data": {
      "text/html": [
       "<div>\n",
       "<style scoped>\n",
       "    .dataframe tbody tr th:only-of-type {\n",
       "        vertical-align: middle;\n",
       "    }\n",
       "\n",
       "    .dataframe tbody tr th {\n",
       "        vertical-align: top;\n",
       "    }\n",
       "\n",
       "    .dataframe thead th {\n",
       "        text-align: right;\n",
       "    }\n",
       "</style>\n",
       "<table border=\"1\" class=\"dataframe\">\n",
       "  <thead>\n",
       "    <tr style=\"text-align: right;\">\n",
       "      <th></th>\n",
       "      <th>gender</th>\n",
       "      <th>dept_name</th>\n",
       "      <th>emp_no</th>\n",
       "    </tr>\n",
       "  </thead>\n",
       "  <tbody>\n",
       "    <tr>\n",
       "      <th>0</th>\n",
       "      <td>F</td>\n",
       "      <td>Marketing</td>\n",
       "      <td>10017</td>\n",
       "    </tr>\n",
       "    <tr>\n",
       "      <th>1</th>\n",
       "      <td>M</td>\n",
       "      <td>Marketing</td>\n",
       "      <td>10058</td>\n",
       "    </tr>\n",
       "    <tr>\n",
       "      <th>2</th>\n",
       "      <td>F</td>\n",
       "      <td>Marketing</td>\n",
       "      <td>10140</td>\n",
       "    </tr>\n",
       "    <tr>\n",
       "      <th>3</th>\n",
       "      <td>F</td>\n",
       "      <td>Marketing</td>\n",
       "      <td>10228</td>\n",
       "    </tr>\n",
       "    <tr>\n",
       "      <th>4</th>\n",
       "      <td>F</td>\n",
       "      <td>Marketing</td>\n",
       "      <td>10239</td>\n",
       "    </tr>\n",
       "  </tbody>\n",
       "</table>\n",
       "</div>"
      ],
      "text/plain": [
       "  gender  dept_name  emp_no\n",
       "0      F  Marketing   10017\n",
       "1      M  Marketing   10058\n",
       "2      F  Marketing   10140\n",
       "3      F  Marketing   10228\n",
       "4      F  Marketing   10239"
      ]
     },
     "execution_count": 35,
     "metadata": {},
     "output_type": "execute_result"
    }
   ],
   "source": [
    "url = get_db_url(\"employees\")\n",
    "sql = \"\"\"\n",
    "SELECT gender, dept_name, emp_no\n",
    "FROM employees\n",
    "JOIN dept_emp USING (emp_no)\n",
    "JOIN departments USING (dept_no)\n",
    "WHERE to_date > now()\n",
    "    AND dept_name IN ('Marketing' , 'Sales')\n",
    "\"\"\"\n",
    "\n",
    "df = pd.read_sql(sql,url)\n",
    "df.head()"
   ]
  },
  {
   "cell_type": "code",
   "execution_count": 36,
   "id": "41008627",
   "metadata": {},
   "outputs": [
    {
     "data": {
      "text/html": [
       "<div>\n",
       "<style scoped>\n",
       "    .dataframe tbody tr th:only-of-type {\n",
       "        vertical-align: middle;\n",
       "    }\n",
       "\n",
       "    .dataframe tbody tr th {\n",
       "        vertical-align: top;\n",
       "    }\n",
       "\n",
       "    .dataframe thead th {\n",
       "        text-align: right;\n",
       "    }\n",
       "</style>\n",
       "<table border=\"1\" class=\"dataframe\">\n",
       "  <thead>\n",
       "    <tr style=\"text-align: right;\">\n",
       "      <th>dept_name</th>\n",
       "      <th>Marketing</th>\n",
       "      <th>Sales</th>\n",
       "    </tr>\n",
       "    <tr>\n",
       "      <th>gender</th>\n",
       "      <th></th>\n",
       "      <th></th>\n",
       "    </tr>\n",
       "  </thead>\n",
       "  <tbody>\n",
       "    <tr>\n",
       "      <th>F</th>\n",
       "      <td>5864</td>\n",
       "      <td>14999</td>\n",
       "    </tr>\n",
       "    <tr>\n",
       "      <th>M</th>\n",
       "      <td>8978</td>\n",
       "      <td>22702</td>\n",
       "    </tr>\n",
       "  </tbody>\n",
       "</table>\n",
       "</div>"
      ],
      "text/plain": [
       "dept_name  Marketing  Sales\n",
       "gender                     \n",
       "F               5864  14999\n",
       "M               8978  22702"
      ]
     },
     "execution_count": 36,
     "metadata": {},
     "output_type": "execute_result"
    }
   ],
   "source": [
    "observed = pd.crosstab(df.gender, df.dept_name)\n",
    "observed"
   ]
  },
  {
   "cell_type": "code",
   "execution_count": 37,
   "id": "e39ecab1",
   "metadata": {},
   "outputs": [
    {
     "name": "stdout",
     "output_type": "stream",
     "text": [
      "Observed\n",
      "\n",
      "[[ 5864 14999]\n",
      " [ 8978 22702]]\n",
      "---\n",
      "Expected\n",
      "\n",
      "[[ 5893.2426013 14969.7573987]\n",
      " [ 8948.7573987 22731.2426013]]\n",
      "---\n",
      "\n",
      "chi^2 = 0.3240\n",
      "p     = 0.5692\n"
     ]
    }
   ],
   "source": [
    "chi2, p, degf, expected = stats.chi2_contingency(observed)\n",
    "\n",
    "print('Observed\\n')\n",
    "print(observed.values)\n",
    "print('---\\nExpected\\n')\n",
    "print(expected)\n",
    "print('---\\n')\n",
    "print(f'chi^2 = {chi2:.4f}')\n",
    "print(f'p     = {p:.4f}')"
   ]
  },
  {
   "cell_type": "code",
   "execution_count": 38,
   "id": "18ad862d",
   "metadata": {},
   "outputs": [
    {
     "name": "stdout",
     "output_type": "stream",
     "text": [
      "accept the null\n"
     ]
    }
   ],
   "source": [
    "alpha = .05\n",
    "if p < alpha:\n",
    "    print(\"reject the null\")\n",
    "else:\n",
    "    print(\"accept the null\")"
   ]
  },
  {
   "cell_type": "markdown",
   "id": "0fc96cce",
   "metadata": {},
   "source": [
    "### Is an employee's gender independent of whether or not they are or have been a manager?"
   ]
  },
  {
   "cell_type": "code",
   "execution_count": 39,
   "id": "504b0433",
   "metadata": {},
   "outputs": [
    {
     "data": {
      "text/html": [
       "<div>\n",
       "<style scoped>\n",
       "    .dataframe tbody tr th:only-of-type {\n",
       "        vertical-align: middle;\n",
       "    }\n",
       "\n",
       "    .dataframe tbody tr th {\n",
       "        vertical-align: top;\n",
       "    }\n",
       "\n",
       "    .dataframe thead th {\n",
       "        text-align: right;\n",
       "    }\n",
       "</style>\n",
       "<table border=\"1\" class=\"dataframe\">\n",
       "  <thead>\n",
       "    <tr style=\"text-align: right;\">\n",
       "      <th></th>\n",
       "      <th>count(gender)</th>\n",
       "    </tr>\n",
       "  </thead>\n",
       "  <tbody>\n",
       "    <tr>\n",
       "      <th>0</th>\n",
       "      <td>11</td>\n",
       "    </tr>\n",
       "    <tr>\n",
       "      <th>1</th>\n",
       "      <td>13</td>\n",
       "    </tr>\n",
       "  </tbody>\n",
       "</table>\n",
       "</div>"
      ],
      "text/plain": [
       "   count(gender)\n",
       "0             11\n",
       "1             13"
      ]
     },
     "execution_count": 39,
     "metadata": {},
     "output_type": "execute_result"
    }
   ],
   "source": [
    "url = get_db_url(\"employees\")\n",
    "sql = \"\"\"\n",
    "SELECT count(gender)\n",
    "FROM dept_manager\n",
    "JOIN employees USING (emp_no)\n",
    "group by gender\n",
    "\"\"\"\n",
    "\n",
    "df = pd.read_sql(sql,url)\n",
    "df.head()"
   ]
  },
  {
   "cell_type": "code",
   "execution_count": 40,
   "id": "ee3f27f0",
   "metadata": {},
   "outputs": [],
   "source": [
    "data = [['male', 11], ['female', 13]]"
   ]
  },
  {
   "cell_type": "code",
   "execution_count": 41,
   "id": "1f381695",
   "metadata": {},
   "outputs": [],
   "source": [
    "df = pd.DataFrame(data, columns = ['gender', 'manager'])"
   ]
  },
  {
   "cell_type": "code",
   "execution_count": 42,
   "id": "5151189f",
   "metadata": {},
   "outputs": [
    {
     "data": {
      "text/html": [
       "<div>\n",
       "<style scoped>\n",
       "    .dataframe tbody tr th:only-of-type {\n",
       "        vertical-align: middle;\n",
       "    }\n",
       "\n",
       "    .dataframe tbody tr th {\n",
       "        vertical-align: top;\n",
       "    }\n",
       "\n",
       "    .dataframe thead th {\n",
       "        text-align: right;\n",
       "    }\n",
       "</style>\n",
       "<table border=\"1\" class=\"dataframe\">\n",
       "  <thead>\n",
       "    <tr style=\"text-align: right;\">\n",
       "      <th></th>\n",
       "      <th>gender</th>\n",
       "      <th>manager</th>\n",
       "    </tr>\n",
       "  </thead>\n",
       "  <tbody>\n",
       "    <tr>\n",
       "      <th>0</th>\n",
       "      <td>male</td>\n",
       "      <td>11</td>\n",
       "    </tr>\n",
       "    <tr>\n",
       "      <th>1</th>\n",
       "      <td>female</td>\n",
       "      <td>13</td>\n",
       "    </tr>\n",
       "  </tbody>\n",
       "</table>\n",
       "</div>"
      ],
      "text/plain": [
       "   gender  manager\n",
       "0    male       11\n",
       "1  female       13"
      ]
     },
     "execution_count": 42,
     "metadata": {},
     "output_type": "execute_result"
    }
   ],
   "source": [
    "df"
   ]
  },
  {
   "cell_type": "code",
   "execution_count": 43,
   "id": "f78c4faa",
   "metadata": {},
   "outputs": [
    {
     "data": {
      "text/html": [
       "<div>\n",
       "<style scoped>\n",
       "    .dataframe tbody tr th:only-of-type {\n",
       "        vertical-align: middle;\n",
       "    }\n",
       "\n",
       "    .dataframe tbody tr th {\n",
       "        vertical-align: top;\n",
       "    }\n",
       "\n",
       "    .dataframe thead th {\n",
       "        text-align: right;\n",
       "    }\n",
       "</style>\n",
       "<table border=\"1\" class=\"dataframe\">\n",
       "  <thead>\n",
       "    <tr style=\"text-align: right;\">\n",
       "      <th>manager</th>\n",
       "      <th>11</th>\n",
       "      <th>13</th>\n",
       "    </tr>\n",
       "    <tr>\n",
       "      <th>gender</th>\n",
       "      <th></th>\n",
       "      <th></th>\n",
       "    </tr>\n",
       "  </thead>\n",
       "  <tbody>\n",
       "    <tr>\n",
       "      <th>female</th>\n",
       "      <td>0</td>\n",
       "      <td>1</td>\n",
       "    </tr>\n",
       "    <tr>\n",
       "      <th>male</th>\n",
       "      <td>1</td>\n",
       "      <td>0</td>\n",
       "    </tr>\n",
       "  </tbody>\n",
       "</table>\n",
       "</div>"
      ],
      "text/plain": [
       "manager  11  13\n",
       "gender         \n",
       "female    0   1\n",
       "male      1   0"
      ]
     },
     "execution_count": 43,
     "metadata": {},
     "output_type": "execute_result"
    }
   ],
   "source": [
    "observed = pd.crosstab(df.gender, df.manager)\n",
    "observed"
   ]
  },
  {
   "cell_type": "code",
   "execution_count": 44,
   "id": "6743a3d8",
   "metadata": {},
   "outputs": [
    {
     "name": "stdout",
     "output_type": "stream",
     "text": [
      "Observed\n",
      "\n",
      "[[0 1]\n",
      " [1 0]]\n",
      "---\n",
      "Expected\n",
      "\n",
      "[[0.5 0.5]\n",
      " [0.5 0.5]]\n",
      "---\n",
      "\n",
      "chi^2 = 0.0000\n",
      "p     = 1.0000\n"
     ]
    }
   ],
   "source": [
    "chi2, p, degf, expected = stats.chi2_contingency(observed)\n",
    "\n",
    "print('Observed\\n')\n",
    "print(observed.values)\n",
    "print('---\\nExpected\\n')\n",
    "print(expected)\n",
    "print('---\\n')\n",
    "print(f'chi^2 = {chi2:.4f}')\n",
    "print(f'p     = {p:.4f}')"
   ]
  },
  {
   "cell_type": "code",
   "execution_count": 45,
   "id": "4ca00961",
   "metadata": {},
   "outputs": [
    {
     "name": "stdout",
     "output_type": "stream",
     "text": [
      "Fail to reject the null\n"
     ]
    }
   ],
   "source": [
    "if p < alpha:\n",
    "    print('Reject the null')\n",
    "else:\n",
    "    print('Fail to reject the null')"
   ]
  },
  {
   "cell_type": "markdown",
   "id": "6617b0cc",
   "metadata": {},
   "source": [
    "##### not expected result, should have done employees and joined dept managers"
   ]
  },
  {
   "cell_type": "code",
   "execution_count": 46,
   "id": "536bca89",
   "metadata": {},
   "outputs": [
    {
     "data": {
      "text/html": [
       "<div>\n",
       "<style scoped>\n",
       "    .dataframe tbody tr th:only-of-type {\n",
       "        vertical-align: middle;\n",
       "    }\n",
       "\n",
       "    .dataframe tbody tr th {\n",
       "        vertical-align: top;\n",
       "    }\n",
       "\n",
       "    .dataframe thead th {\n",
       "        text-align: right;\n",
       "    }\n",
       "</style>\n",
       "<table border=\"1\" class=\"dataframe\">\n",
       "  <thead>\n",
       "    <tr style=\"text-align: right;\">\n",
       "      <th></th>\n",
       "      <th>emp_no</th>\n",
       "      <th>birth_date</th>\n",
       "      <th>first_name</th>\n",
       "      <th>last_name</th>\n",
       "      <th>gender</th>\n",
       "      <th>hire_date</th>\n",
       "      <th>dept_no</th>\n",
       "      <th>from_date</th>\n",
       "      <th>to_date</th>\n",
       "    </tr>\n",
       "  </thead>\n",
       "  <tbody>\n",
       "    <tr>\n",
       "      <th>0</th>\n",
       "      <td>10001</td>\n",
       "      <td>1953-09-02</td>\n",
       "      <td>Georgi</td>\n",
       "      <td>Facello</td>\n",
       "      <td>M</td>\n",
       "      <td>1986-06-26</td>\n",
       "      <td>None</td>\n",
       "      <td>None</td>\n",
       "      <td>None</td>\n",
       "    </tr>\n",
       "    <tr>\n",
       "      <th>1</th>\n",
       "      <td>10002</td>\n",
       "      <td>1964-06-02</td>\n",
       "      <td>Bezalel</td>\n",
       "      <td>Simmel</td>\n",
       "      <td>F</td>\n",
       "      <td>1985-11-21</td>\n",
       "      <td>None</td>\n",
       "      <td>None</td>\n",
       "      <td>None</td>\n",
       "    </tr>\n",
       "    <tr>\n",
       "      <th>2</th>\n",
       "      <td>10003</td>\n",
       "      <td>1959-12-03</td>\n",
       "      <td>Parto</td>\n",
       "      <td>Bamford</td>\n",
       "      <td>M</td>\n",
       "      <td>1986-08-28</td>\n",
       "      <td>None</td>\n",
       "      <td>None</td>\n",
       "      <td>None</td>\n",
       "    </tr>\n",
       "    <tr>\n",
       "      <th>3</th>\n",
       "      <td>10004</td>\n",
       "      <td>1954-05-01</td>\n",
       "      <td>Chirstian</td>\n",
       "      <td>Koblick</td>\n",
       "      <td>M</td>\n",
       "      <td>1986-12-01</td>\n",
       "      <td>None</td>\n",
       "      <td>None</td>\n",
       "      <td>None</td>\n",
       "    </tr>\n",
       "    <tr>\n",
       "      <th>4</th>\n",
       "      <td>10005</td>\n",
       "      <td>1955-01-21</td>\n",
       "      <td>Kyoichi</td>\n",
       "      <td>Maliniak</td>\n",
       "      <td>M</td>\n",
       "      <td>1989-09-12</td>\n",
       "      <td>None</td>\n",
       "      <td>None</td>\n",
       "      <td>None</td>\n",
       "    </tr>\n",
       "  </tbody>\n",
       "</table>\n",
       "</div>"
      ],
      "text/plain": [
       "   emp_no  birth_date first_name last_name gender   hire_date dept_no  \\\n",
       "0   10001  1953-09-02     Georgi   Facello      M  1986-06-26    None   \n",
       "1   10002  1964-06-02    Bezalel    Simmel      F  1985-11-21    None   \n",
       "2   10003  1959-12-03      Parto   Bamford      M  1986-08-28    None   \n",
       "3   10004  1954-05-01  Chirstian   Koblick      M  1986-12-01    None   \n",
       "4   10005  1955-01-21    Kyoichi  Maliniak      M  1989-09-12    None   \n",
       "\n",
       "  from_date to_date  \n",
       "0      None    None  \n",
       "1      None    None  \n",
       "2      None    None  \n",
       "3      None    None  \n",
       "4      None    None  "
      ]
     },
     "execution_count": 46,
     "metadata": {},
     "output_type": "execute_result"
    }
   ],
   "source": [
    "url = get_db_url(\"employees\")\n",
    "sql = \"\"\"\n",
    "SELECT *\n",
    "FROM employees\n",
    "LEFT JOIN dept_manager USING (emp_no)\n",
    "\n",
    "\"\"\"\n",
    "\n",
    "df = pd.read_sql(sql,url)\n",
    "df.head()"
   ]
  },
  {
   "cell_type": "code",
   "execution_count": 47,
   "id": "7eafd42f",
   "metadata": {},
   "outputs": [],
   "source": [
    "df['is_manager']= np.where(df.dept_no.isnull(), False, True)"
   ]
  },
  {
   "cell_type": "code",
   "execution_count": 48,
   "id": "a2cb6e42",
   "metadata": {},
   "outputs": [
    {
     "data": {
      "text/html": [
       "<div>\n",
       "<style scoped>\n",
       "    .dataframe tbody tr th:only-of-type {\n",
       "        vertical-align: middle;\n",
       "    }\n",
       "\n",
       "    .dataframe tbody tr th {\n",
       "        vertical-align: top;\n",
       "    }\n",
       "\n",
       "    .dataframe thead th {\n",
       "        text-align: right;\n",
       "    }\n",
       "</style>\n",
       "<table border=\"1\" class=\"dataframe\">\n",
       "  <thead>\n",
       "    <tr style=\"text-align: right;\">\n",
       "      <th></th>\n",
       "      <th>emp_no</th>\n",
       "      <th>birth_date</th>\n",
       "      <th>first_name</th>\n",
       "      <th>last_name</th>\n",
       "      <th>gender</th>\n",
       "      <th>hire_date</th>\n",
       "      <th>dept_no</th>\n",
       "      <th>from_date</th>\n",
       "      <th>to_date</th>\n",
       "      <th>is_manager</th>\n",
       "    </tr>\n",
       "  </thead>\n",
       "  <tbody>\n",
       "    <tr>\n",
       "      <th>0</th>\n",
       "      <td>10001</td>\n",
       "      <td>1953-09-02</td>\n",
       "      <td>Georgi</td>\n",
       "      <td>Facello</td>\n",
       "      <td>M</td>\n",
       "      <td>1986-06-26</td>\n",
       "      <td>None</td>\n",
       "      <td>None</td>\n",
       "      <td>None</td>\n",
       "      <td>False</td>\n",
       "    </tr>\n",
       "    <tr>\n",
       "      <th>1</th>\n",
       "      <td>10002</td>\n",
       "      <td>1964-06-02</td>\n",
       "      <td>Bezalel</td>\n",
       "      <td>Simmel</td>\n",
       "      <td>F</td>\n",
       "      <td>1985-11-21</td>\n",
       "      <td>None</td>\n",
       "      <td>None</td>\n",
       "      <td>None</td>\n",
       "      <td>False</td>\n",
       "    </tr>\n",
       "    <tr>\n",
       "      <th>2</th>\n",
       "      <td>10003</td>\n",
       "      <td>1959-12-03</td>\n",
       "      <td>Parto</td>\n",
       "      <td>Bamford</td>\n",
       "      <td>M</td>\n",
       "      <td>1986-08-28</td>\n",
       "      <td>None</td>\n",
       "      <td>None</td>\n",
       "      <td>None</td>\n",
       "      <td>False</td>\n",
       "    </tr>\n",
       "    <tr>\n",
       "      <th>3</th>\n",
       "      <td>10004</td>\n",
       "      <td>1954-05-01</td>\n",
       "      <td>Chirstian</td>\n",
       "      <td>Koblick</td>\n",
       "      <td>M</td>\n",
       "      <td>1986-12-01</td>\n",
       "      <td>None</td>\n",
       "      <td>None</td>\n",
       "      <td>None</td>\n",
       "      <td>False</td>\n",
       "    </tr>\n",
       "    <tr>\n",
       "      <th>4</th>\n",
       "      <td>10005</td>\n",
       "      <td>1955-01-21</td>\n",
       "      <td>Kyoichi</td>\n",
       "      <td>Maliniak</td>\n",
       "      <td>M</td>\n",
       "      <td>1989-09-12</td>\n",
       "      <td>None</td>\n",
       "      <td>None</td>\n",
       "      <td>None</td>\n",
       "      <td>False</td>\n",
       "    </tr>\n",
       "  </tbody>\n",
       "</table>\n",
       "</div>"
      ],
      "text/plain": [
       "   emp_no  birth_date first_name last_name gender   hire_date dept_no  \\\n",
       "0   10001  1953-09-02     Georgi   Facello      M  1986-06-26    None   \n",
       "1   10002  1964-06-02    Bezalel    Simmel      F  1985-11-21    None   \n",
       "2   10003  1959-12-03      Parto   Bamford      M  1986-08-28    None   \n",
       "3   10004  1954-05-01  Chirstian   Koblick      M  1986-12-01    None   \n",
       "4   10005  1955-01-21    Kyoichi  Maliniak      M  1989-09-12    None   \n",
       "\n",
       "  from_date to_date  is_manager  \n",
       "0      None    None       False  \n",
       "1      None    None       False  \n",
       "2      None    None       False  \n",
       "3      None    None       False  \n",
       "4      None    None       False  "
      ]
     },
     "execution_count": 48,
     "metadata": {},
     "output_type": "execute_result"
    }
   ],
   "source": [
    "df.head()"
   ]
  },
  {
   "cell_type": "code",
   "execution_count": 49,
   "id": "4657e7e6",
   "metadata": {},
   "outputs": [
    {
     "data": {
      "text/plain": [
       "2"
      ]
     },
     "execution_count": 49,
     "metadata": {},
     "output_type": "execute_result"
    }
   ],
   "source": [
    "df.is_manager.nunique()"
   ]
  },
  {
   "cell_type": "code",
   "execution_count": 50,
   "id": "d28bf3f0",
   "metadata": {},
   "outputs": [
    {
     "data": {
      "text/html": [
       "<div>\n",
       "<style scoped>\n",
       "    .dataframe tbody tr th:only-of-type {\n",
       "        vertical-align: middle;\n",
       "    }\n",
       "\n",
       "    .dataframe tbody tr th {\n",
       "        vertical-align: top;\n",
       "    }\n",
       "\n",
       "    .dataframe thead th {\n",
       "        text-align: right;\n",
       "    }\n",
       "</style>\n",
       "<table border=\"1\" class=\"dataframe\">\n",
       "  <thead>\n",
       "    <tr style=\"text-align: right;\">\n",
       "      <th>is_manager</th>\n",
       "      <th>False</th>\n",
       "      <th>True</th>\n",
       "    </tr>\n",
       "    <tr>\n",
       "      <th>gender</th>\n",
       "      <th></th>\n",
       "      <th></th>\n",
       "    </tr>\n",
       "  </thead>\n",
       "  <tbody>\n",
       "    <tr>\n",
       "      <th>F</th>\n",
       "      <td>120038</td>\n",
       "      <td>13</td>\n",
       "    </tr>\n",
       "    <tr>\n",
       "      <th>M</th>\n",
       "      <td>179962</td>\n",
       "      <td>11</td>\n",
       "    </tr>\n",
       "  </tbody>\n",
       "</table>\n",
       "</div>"
      ],
      "text/plain": [
       "is_manager   False  True\n",
       "gender                  \n",
       "F           120038    13\n",
       "M           179962    11"
      ]
     },
     "execution_count": 50,
     "metadata": {},
     "output_type": "execute_result"
    }
   ],
   "source": [
    "observed = pd.crosstab(df.gender, df.is_manager)\n",
    "observed"
   ]
  },
  {
   "cell_type": "code",
   "execution_count": 51,
   "id": "8cac4ec3",
   "metadata": {},
   "outputs": [
    {
     "name": "stdout",
     "output_type": "stream",
     "text": [
      "Observed\n",
      "\n",
      "[[120038     13]\n",
      " [179962     11]]\n",
      "---\n",
      "Expected\n",
      "\n",
      "[[1.20041397e+05 9.60331174e+00]\n",
      " [1.79958603e+05 1.43966883e+01]]\n",
      "---\n",
      "\n",
      "chi^2 = 1.4567\n",
      "p     = 0.2275\n"
     ]
    }
   ],
   "source": [
    "chi2, p, degf, expected = stats.chi2_contingency(observed)\n",
    "\n",
    "print('Observed\\n')\n",
    "print(observed.values)\n",
    "print('---\\nExpected\\n')\n",
    "print(expected)\n",
    "print('---\\n')\n",
    "print(f'chi^2 = {chi2:.4f}')\n",
    "print(f'p     = {p:.4f}')"
   ]
  },
  {
   "cell_type": "code",
   "execution_count": 52,
   "id": "cbd2e132",
   "metadata": {},
   "outputs": [
    {
     "name": "stdout",
     "output_type": "stream",
     "text": [
      "Fail to reject the null\n"
     ]
    }
   ],
   "source": [
    "if p < alpha:\n",
    "    print('Reject the null')\n",
    "else:\n",
    "    print('Fail to reject the null')"
   ]
  },
  {
   "cell_type": "code",
   "execution_count": null,
   "id": "3dc97453",
   "metadata": {},
   "outputs": [],
   "source": []
  }
 ],
 "metadata": {
  "kernelspec": {
   "display_name": "Python 3 (ipykernel)",
   "language": "python",
   "name": "python3"
  },
  "language_info": {
   "codemirror_mode": {
    "name": "ipython",
    "version": 3
   },
   "file_extension": ".py",
   "mimetype": "text/x-python",
   "name": "python",
   "nbconvert_exporter": "python",
   "pygments_lexer": "ipython3",
   "version": "3.9.7"
  }
 },
 "nbformat": 4,
 "nbformat_minor": 5
}
