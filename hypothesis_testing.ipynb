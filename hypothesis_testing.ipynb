{
 "cells": [
  {
   "cell_type": "markdown",
   "id": "ba8e2dba",
   "metadata": {},
   "source": [
    "## For each of the following questions, formulate a null and alternative hypothesis (be as specific as you can be), then give an example of what a true positive, true negative, type I and type II errors would look like. Note that some of the questions are intentionally phrased in a vague way. It is your job to reword these as more precise questions that could be tested."
   ]
  },
  {
   "cell_type": "markdown",
   "id": "ed905e9f",
   "metadata": {},
   "source": [
    "### -Has the network latency gone up since we switched internet service providers?"
   ]
  },
  {
   "cell_type": "markdown",
   "id": "6be218ec",
   "metadata": {},
   "source": [
    "#### - Null - Network latency has not changed or has decreased since we switched internet service providers"
   ]
  },
  {
   "cell_type": "markdown",
   "id": "70719290",
   "metadata": {},
   "source": [
    "#### -alternative- Network latency has gone up since we switched internet service providers"
   ]
  },
  {
   "cell_type": "markdown",
   "id": "b784a31f",
   "metadata": {},
   "source": [
    "#### -True positive- you test the network latency multiple times throughout the day and it does indeed seem like it has gone up since switching"
   ]
  },
  {
   "cell_type": "markdown",
   "id": "044a0397",
   "metadata": {},
   "source": [
    "#### - True Negative- After testing the network latency multiple times throughout different times of the day, it has proven that it has not gone up. "
   ]
  },
  {
   "cell_type": "markdown",
   "id": "adea0815",
   "metadata": {},
   "source": [
    "#### - Type 1 error- we think that network latency has gone up when in reality it hasn't. it could be dependent on outside factors such as time of day, weather, ect. "
   ]
  },
  {
   "cell_type": "markdown",
   "id": "2104493c",
   "metadata": {},
   "source": [
    "#### type 2 error- we think that network latency has remained the same when it has actually gone up. we could have tested when there wasn't much stress on the network, allowing for the latency to be less. "
   ]
  },
  {
   "cell_type": "markdown",
   "id": "df8273d9",
   "metadata": {},
   "source": [
    "### -Is the website redesign any good?"
   ]
  },
  {
   "cell_type": "markdown",
   "id": "a31f06c8",
   "metadata": {},
   "source": [
    "#### -null- the website redesign has not changed how easy it is for customers to use"
   ]
  },
  {
   "cell_type": "markdown",
   "id": "5894a318",
   "metadata": {},
   "source": [
    "#### - alternative - the website redesign made the website much more user friendly"
   ]
  },
  {
   "cell_type": "markdown",
   "id": "0e1bda97",
   "metadata": {},
   "source": [
    "#### - True positive - a poll was taken among the website users and an overwhelming majority prefer the new website design"
   ]
  },
  {
   "cell_type": "markdown",
   "id": "ef8a93ec",
   "metadata": {},
   "source": [
    "#### - True negative- most website users don't prefer the website redesign, instead wishing the website was how it used to be. "
   ]
  },
  {
   "cell_type": "markdown",
   "id": "654bdec8",
   "metadata": {},
   "source": [
    "#### - Type 1 error- only a small portion of the population is asked and many dislike the redesign, when in reality a vast majority prefer the redesign"
   ]
  },
  {
   "cell_type": "markdown",
   "id": "2997c7a7",
   "metadata": {},
   "source": [
    "#### - Type 2 error- we believe the redesign is good, despite a majority of users disliking the redesign "
   ]
  },
  {
   "cell_type": "markdown",
   "id": "d04cf2ab",
   "metadata": {},
   "source": [
    "### - Is our television ad driving more sales?"
   ]
  },
  {
   "cell_type": "markdown",
   "id": "7b09e41c",
   "metadata": {},
   "source": []
  },
  {
   "cell_type": "code",
   "execution_count": null,
   "id": "739cbc33",
   "metadata": {},
   "outputs": [],
   "source": []
  }
 ],
 "metadata": {
  "kernelspec": {
   "display_name": "Python 3 (ipykernel)",
   "language": "python",
   "name": "python3"
  },
  "language_info": {
   "codemirror_mode": {
    "name": "ipython",
    "version": 3
   },
   "file_extension": ".py",
   "mimetype": "text/x-python",
   "name": "python",
   "nbconvert_exporter": "python",
   "pygments_lexer": "ipython3",
   "version": "3.9.7"
  }
 },
 "nbformat": 4,
 "nbformat_minor": 5
}
